{
 "cells": [
  {
   "cell_type": "markdown",
   "metadata": {},
   "source": [
    "**Main Sources** \n",
    "    1. https://notgnoshi.github.io/linear-transformations/\n",
    "    2. https://dododas.github.io/linear-algebra-with-python/posts/16-12-29-2d-transformations.html\n",
    "    \n",
    "**Further Reading**\n",
    "    1. https://mmas.github.io/linear-transformations-numpy\n"
   ]
  },
  {
   "cell_type": "markdown",
   "metadata": {},
   "source": [
    "# <center>2D Linear Transformations</center> #"
   ]
  },
  {
   "cell_type": "markdown",
   "metadata": {},
   "source": [
    "A linear transformation of the plane $\\mathbb{R}^2$ is a geometric transformation of the form\n",
    "$$ \n",
    "  A\\vec{x} = \\vec{w}\\ \\ \\  \\Leftrightarrow \\ \\ \\ \n",
    "  \\left[ \\begin{array}{cc}\n",
    "                a & b\\\\ c & d\n",
    "           \\end{array} \n",
    "  \\right]\n",
    "   \\left[ \\begin{array}{c}\n",
    "                x\\\\ y\n",
    "           \\end{array} \n",
    "  \\right] = \n",
    "  \\left[ \\begin{array}{c}\n",
    "                u\\\\ v\n",
    "           \\end{array} \n",
    "  \\right] \n",
    "$$\n",
    "where $a, b, c$ and $d$ are real numbers.\n",
    "\n",
    "Linear transformations leave the origin fixed and preserve parallelism. As an example,\n",
    "consider the matrix\n",
    "$$\n",
    "  A = \\left[\\begin{array}{cc}\n",
    "          2 & -1 \\\\ 1 & 1\n",
    "          \\end{array}\n",
    "      \\right]\n",
    "$$\n",
    "that transforms an arbitrary vector $\\left[ \\begin{array}{c}\n",
    "                x\\\\ y\n",
    "           \\end{array} \\right]$\n",
    "to a linear combination of the column vectors of $A$:\n",
    "$$\n",
    "  \\left[ \\begin{array}{c}\n",
    "                u\\\\ v\n",
    "           \\end{array} \n",
    "  \\right] =\n",
    "  \\left[\\begin{array}{cc}\n",
    "          2 & -1 \\\\ 1 & 1\n",
    "          \\end{array}\n",
    "   \\right]       \n",
    "   \\left[ \\begin{array}{c}\n",
    "                x \\\\ y\n",
    "           \\end{array} \n",
    "  \\right] =\n",
    "  x \\left[ \\begin{array}{c}\n",
    "                2\\\\ 1\n",
    "           \\end{array} \n",
    "  \\right] +\n",
    "  y \\left[ \\begin{array}{c}\n",
    "                -1\\\\ 1\n",
    "           \\end{array} \n",
    "  \\right].\n",
    "$$\n",
    "We can get a visual feel for this transformation by looking at a regular grid of points before and after the transformation:\n",
    "\n",
    "![](img/grid-original-small.png)  ![](img/grid-transformed-small.png)\n",
    "\n",
    "Let's look at it in action!\n",
    "\n",
    "![](img/stepwise-transform.gif)\n",
    "\n",
    "This notebook describes how to use `Numpy` to perform and visualize special linear transformations, the\n",
    "**scaling**, **shearing**, **rotation** and **reflexion** of a plane. "
   ]
  },
  {
   "cell_type": "code",
   "execution_count": null,
   "metadata": {},
   "outputs": [],
   "source": [
    "# Import necessary libraries:\n",
    "%matplotlib inline\n",
    "import numpy as np\n",
    "import matplotlib as mpl\n",
    "import matplotlib.pyplot as plt"
   ]
  },
  {
   "cell_type": "markdown",
   "metadata": {},
   "source": [
    "--------------------------------------\n",
    "## 1. General Steps ##\n",
    "\n",
    "    [1]. Create a rectangular array of points in x-y space.\n",
    "    [2]. Map grid coordinates to colors that uniquely identify each point.\n",
    "    [3]. Experiment and plot linear transforms.\n",
    "    [4]. Create animations\n",
    "       [4.1] Generate a series of intermediate transforms that will “smoothly” transition from the original grid to the transformed grid.\n",
    "       [4.2] Plot each of the intermediate transforms and save them as individual images.\n",
    "       [4.3] Stitch images into a gif to generate an animation.\n",
    "_______________________________________    \n"
   ]
  },
  {
   "cell_type": "markdown",
   "metadata": {},
   "source": [
    "### 1.1 Generate original and transformed grids ###\n",
    "\n",
    "To construct a grid of points, we generate evenly spaced vectors along the $x$ and $y$\n",
    "axes, and combine them together into a grid"
   ]
  },
  {
   "cell_type": "code",
   "execution_count": null,
   "metadata": {},
   "outputs": [],
   "source": [
    "# Create a grid of points in x-y space \n",
    "xvals = np.linspace(-4, 4, 9)\n",
    "yvals = np.linspace(-3, 3, 7)\n",
    "xygrid = np.column_stack([[x, y] for x in xvals for y in yvals])"
   ]
  },
  {
   "cell_type": "markdown",
   "metadata": {},
   "source": [
    "Here, the $x$-axis values span from -4 to 4 and the $y$-axis value span from -3 to 3.\n",
    "By stacking the $x$-$y$ pairs columnwise, we generate a $2\\times 63$ rectangular grid of points:\n",
    "\n",
    "$$\n",
    "  \\mathrm{xygrid} = \\left[ \\begin{array}{cccccccccccccc}\n",
    "  -4& -4& -4& -4& -4& -4& -4& -3& -3& \\cdots &  0&  1&  \\cdots& \n",
    "   4&  4 \\\\\n",
    "   -3& -2& -1&  0&  1&  2&  3& -3& -2& \\cdots & 3 & -3 & \\cdots &\n",
    "   2 & 3\n",
    "             \\end{array}\n",
    "             \\right].\n",
    "$$\n",
    "\n",
    "We define a matrix \n",
    "$A = \\left[ \\begin{array}{cc}\n",
    "              2 & -1 \\\\ 1 & 1\n",
    "            \\end{array}\n",
    "      \\right]\n",
    "$ \n",
    "and generate the transformed grid by\n",
    "multiplying the column vectors of $\\mathrm{xygrid}$ by $A$:\n",
    "$$\n",
    "  \\mathrm{uvgrid} = A\\cdot \\mathrm{xygrid}.\n",
    "$$"
   ]
  },
  {
   "cell_type": "code",
   "execution_count": null,
   "metadata": {},
   "outputs": [],
   "source": [
    "# Apply linear transform\n",
    "A = np.column_stack([[2, 1], [-1, 1]])\n",
    "print(A)\n",
    "uvgrid = np.dot(A, xygrid)"
   ]
  },
  {
   "cell_type": "markdown",
   "metadata": {},
   "source": [
    "### 1.2 Plot grids ###\n",
    "\n",
    "To plot the grid points, we will use the matplotlib function `scatter` that can apply a different color to each point. The following function transforms an $(x,y)$\n",
    "coordinate pair to an rgb color:"
   ]
  },
  {
   "cell_type": "code",
   "execution_count": null,
   "metadata": {},
   "outputs": [],
   "source": [
    "# This function assigns a unique color based on position\n",
    "def colorizer(x, y):\n",
    "    \"\"\"\n",
    "    Map x-y coordinates to a rgb color\n",
    "    \"\"\"\n",
    "    r = min(1, 1-y/3)\n",
    "    g = min(1, 1+y/3)\n",
    "    b = 1/4 + x/16\n",
    "    return (r, g, b)"
   ]
  },
  {
   "cell_type": "markdown",
   "metadata": {},
   "source": [
    "We map this function to the $x$-$y$ coordinates to generate an array of rgb color, \n",
    "and then plot the $x$-$y$ grid points:"
   ]
  },
  {
   "cell_type": "code",
   "execution_count": null,
   "metadata": {},
   "outputs": [],
   "source": [
    "# Map grid coordinates to colors\n",
    "colors = list(map(colorizer, xygrid[0], xygrid[1]))\n",
    "\n",
    "# Plot grid points \n",
    "plt.figure(figsize=(4, 4), facecolor=\"w\")\n",
    "plt.scatter(xygrid[0], xygrid[1], s=36, c=colors, edgecolor=\"none\")\n",
    "# Set axis limits\n",
    "plt.grid(True)\n",
    "plt.axis(\"equal\")\n",
    "plt.title(\"Original grid in x-y space\")"
   ]
  },
  {
   "cell_type": "markdown",
   "metadata": {},
   "source": [
    "Similarly, We can plot the transformed grid:"
   ]
  },
  {
   "cell_type": "code",
   "execution_count": null,
   "metadata": {},
   "outputs": [],
   "source": [
    "# Plot transformed grid points\n",
    "plt.figure(figsize=(4, 4), facecolor=\"w\")\n",
    "plt.scatter(uvgrid[0], uvgrid[1], s=36, c=colors, edgecolor=\"none\")\n",
    "plt.grid(True)\n",
    "plt.axis(\"equal\")\n",
    "plt.title(\"Transformed grid in u-v space\")"
   ]
  },
  {
   "cell_type": "markdown",
   "metadata": {},
   "source": [
    "Another example."
   ]
  },
  {
   "cell_type": "code",
   "execution_count": null,
   "metadata": {},
   "outputs": [],
   "source": [
    "# Rotation\n",
    "theta = np.pi/3 # 60 degree clockwise rotation\n",
    "B = np.column_stack([[np.cos(theta), np.sin(theta)], [-np.sin(theta), np.cos(theta)]])\n",
    "print(B)\n",
    "\n",
    "uvgrid2 = np.dot(B, xygrid)\n",
    "\n",
    "plt.figure(figsize=(4, 4), facecolor=\"w\")\n",
    "plt.scatter(uvgrid2[0], uvgrid2[1], s=36, c=colors, edgecolor=\"none\")\n",
    "plt.grid(True)\n",
    "plt.axis(\"equal\")\n",
    "plt.title(\"Transformed grid in u-v space\")"
   ]
  },
  {
   "cell_type": "markdown",
   "metadata": {},
   "source": [
    "## 2. Linear transformation on images ##\n",
    "\n",
    "Here we will do basic liear transformations on images. There are many advanced python modules of manipulating images, and you may google to find out. One example is [here](https://automatetheboringstuff.com/chapter17/)."
   ]
  },
  {
   "cell_type": "code",
   "execution_count": null,
   "metadata": {},
   "outputs": [],
   "source": [
    "# Import a image manipulating library \n",
    "#import imageio\n",
    "import matplotlib.image as mpimg"
   ]
  },
  {
   "cell_type": "markdown",
   "metadata": {},
   "source": [
    "### 2.1 Images are Data###"
   ]
  },
  {
   "cell_type": "code",
   "execution_count": null,
   "metadata": {},
   "outputs": [],
   "source": [
    "# Load an image file.\n",
    "RGB_Image = mpimg.imread(\"./img/lennon.png\")\n",
    "\n",
    "# To see basic features of the imported image.\n",
    "print(type(RGB_Image), RGB_Image.dtype, RGB_Image.shape) \n",
    "print(' ' )\n",
    "print(RGB_Image) # See the image as ndarray"
   ]
  },
  {
   "cell_type": "code",
   "execution_count": null,
   "metadata": {},
   "outputs": [],
   "source": [
    "x, y, channel = (RGB_Image.shape)          # X size, Y size, number of channel \n",
    "                                           # (3 for RGB image).\n",
    "\n",
    "Red_Image = RGB_Image[:,:,0]               # Store Red channel in a Numpy array.\n",
    "Green_Image = RGB_Image[:,:,1]             # Store Green channel in a Numpy array.\n",
    "Blue_Image = RGB_Image[:,:,2]              # Store Blue channel in a Numpy array.\n",
    "\n",
    "#-------------------------:\n",
    "# Show images on screen   :\n",
    "#-------------------------:\n",
    "plt.figure(figsize = (7,7))\n",
    "plt.subplot(2,2,1); plt.imshow(RGB_Image); plt.title('RGB')\n",
    "plt.subplot(2,2,2); plt.imshow(Red_Image, cmap='gray'); plt.title('RED channel')\n",
    "plt.subplot(2,2,3); plt.imshow(Green_Image, cmap='gray'); plt.title('GREEN channel')\n",
    "plt.subplot(2,2,4); plt.imshow(Blue_Image, cmap='gray'); plt.title('BLUE channel')\n",
    "plt.show()"
   ]
  },
  {
   "cell_type": "markdown",
   "metadata": {},
   "source": [
    "### 2.2 Linear transformation##"
   ]
  },
  {
   "cell_type": "code",
   "execution_count": null,
   "metadata": {},
   "outputs": [],
   "source": [
    "# Define a linear transformation function\n",
    "def linear_transformation(src, A):\n",
    "    m, n = src.shape\n",
    "    points = np.mgrid[0:n, 0:m].reshape((2, m*n))\n",
    "    new_points = np.linalg.inv(A).dot(points).round().astype(int)\n",
    "    x, y = new_points.reshape((2, m, n), order='F')\n",
    "    indices = x + n*y\n",
    "    return np.take(src, indices, mode='wrap')"
   ]
  },
  {
   "cell_type": "code",
   "execution_count": null,
   "metadata": {},
   "outputs": [],
   "source": [
    "A = np.array([[1, 0], [0, 0.5]]) # Scaling\n",
    "dst = linear_transformation(Red_Image, A)"
   ]
  },
  {
   "cell_type": "code",
   "execution_count": null,
   "metadata": {},
   "outputs": [],
   "source": [
    "plt.figure(figsize = (10,10))\n",
    "plt.subplot(1,2,1); plt.imshow(Red_Image, cmap='gray'); plt.title('Original')\n",
    "plt.subplot(1,2,2); plt.imshow(dst, cmap='gray'); plt.title('Transformed')\n",
    "plt.show()"
   ]
  },
  {
   "cell_type": "code",
   "execution_count": null,
   "metadata": {},
   "outputs": [],
   "source": [
    "B = np.array([[1, 0], [-1, 1]]) # Rotation\n",
    "dst2 = linear_transformation(Red_Image, B)\n",
    "\n",
    "plt.figure(figsize = (10,10))\n",
    "plt.subplot(1,2,1); plt.imshow(Red_Image, cmap='gray'); plt.title('Original')\n",
    "plt.subplot(1,2,2); plt.imshow(dst2, cmap='gray'); plt.title('Transformed')\n",
    "plt.show()"
   ]
  },
  {
   "cell_type": "code",
   "execution_count": null,
   "metadata": {},
   "outputs": [],
   "source": [
    "C = np.array([[1, 0], [0, -1]]) # Reflection about x-axis\n",
    "#C = np.array([[-1, 0], [0, 1]]) # Reflection about y-axis\n",
    "#C = np.array([[0, 1], [1, 0]]) # Reflection about y-axis\n",
    "dst3 = linear_transformation(Red_Image, C)\n",
    "plt.figure(figsize = (10,10))\n",
    "plt.subplot(1,2,1); plt.imshow(Red_Image, cmap='gray'); plt.title('Original')\n",
    "plt.subplot(1,2,2); plt.imshow(dst3, cmap='gray'); plt.title('Transformed')\n",
    "plt.show"
   ]
  },
  {
   "cell_type": "markdown",
   "metadata": {},
   "source": [
    "## Exercises ##\n",
    "\n",
    "   1. Construct a $2\\times 2$ matrix $A_1$ that first performs a horizontal shear transforming $\\vec{e}_2$ into $\\vec{e}_2+2\\vec{e}_1$ (leaving $\\vec{e}_1$ unchanged). Then, write a Python code to visualize the matrix transformation, as in Section 1.\n",
    "   2. Construct a $2\\times 2$ matrix $A_2$ that first performs and reflects vectors through the line $y=-x$. Then, write a Python code to visualize the transformation, as in Section 1.\n",
    "   3. Write a Python code to compute $A =A_1A_2$ and visualize the matrix transformation $A\\vec{x}$, as in Section 1."
   ]
  },
  {
   "cell_type": "markdown",
   "metadata": {},
   "source": [
    "## Further Reading ##\n",
    "\n",
    "* [Affine transform of an image](https://matplotlib.org/gallery/images_contours_and_fields/affine_image.html#sphx-glr-gallery-images-contours-and-fields-affine-image-py)"
   ]
  },
  {
   "cell_type": "markdown",
   "metadata": {},
   "source": [
    "# <center> Appendix. Generating Animations </center> #\n",
    "\n",
    " (Note: This **only works** on `Linux` or `OS X` and *requires* `ImageMagick` to be available at the command line)"
   ]
  },
  {
   "cell_type": "markdown",
   "metadata": {},
   "source": [
    "## Generate intermediate transforms ##\n",
    "\n",
    "To create the animated version, we need a series of intermediate grids that will \n",
    "smoothly transition from the original grid to the transformed grid. One way to achieve this is\n",
    "by constructing a series of $2\\times 2$ matrices that interpolate between the identity matrix \n",
    "$I = \\left[ \\begin{array}{cc}\n",
    "              1 & 0 \\\\ 0 & 1\n",
    "            \\end{array}\n",
    "      \\right]\n",
    "$\n",
    "and the target matrix \n",
    "$A = \\left[ \\begin{array}{cc}\n",
    "              2 & -1 \\\\ 1 & 1\n",
    "            \\end{array}\n",
    "      \\right].\n",
    "$ \n",
    "\n",
    "\n",
    "Supose we want to do this in $n$ steps. Then the $j^{th}$ matrix in this sequence is:\n",
    "$$\n",
    "  A_j = I+\\frac{j}{n}(A-I) = \\left[ \\begin{array}{cc}\n",
    "                      1+j/n & -j/n\\\\ j/n & 1\n",
    "                      \\end{array}\n",
    "                      \\right]\n",
    "$$\n",
    "where $j = 0 ... n$. The matrix product\n",
    "$$ A_j\\cdot \\mathrm{xygrid} $$\n",
    "computes grid coordinates for the $j^{th}$ intermediate transform.\n",
    "The following code block generates all the intermediate grids for a given target matrix, \n",
    "and returns the results in a 3D array:"
   ]
  },
  {
   "cell_type": "code",
   "execution_count": null,
   "metadata": {},
   "outputs": [],
   "source": [
    "# To animate the transform, we generate a series of intermediates\n",
    "# Function to compute all intermediate transforms\n",
    "def stepwise_transform(A, points, nsteps=30):\n",
    "    '''\n",
    "    Generate a series of intermediate transform for the matrix multiplication\n",
    "      np.dot(A, points) # matrix multiplication\n",
    "    starting with the identity matrix, where\n",
    "      a: 2-by-2 matrix\n",
    "      points: 2-by-n array of coordinates in x-y space \n",
    "\n",
    "    Returns a (nsteps + 1)-by-2-by-n array\n",
    "    '''\n",
    "    # create empty array of the right size\n",
    "    transgrid = np.zeros((nsteps+1,) + np.shape(points))\n",
    "    # compute intermediate transforms\n",
    "    for j in range(nsteps+1):\n",
    "        intermediate = np.eye(2) + j/nsteps*(A - np.eye(2)) \n",
    "        transgrid[j] = np.dot(intermediate, points) # apply intermediate matrix transformation\n",
    "    return transgrid\n",
    "\n",
    "# Apply to x-y grid\n",
    "steps = 30\n",
    "transform = stepwise_transform(B, xygrid, nsteps=steps)"
   ]
  },
  {
   "cell_type": "markdown",
   "metadata": {},
   "source": [
    "## Plot intermediate transforms ##\n",
    "\n",
    "Next we plot each of the intermediate grids on a common axis. To construct the animated version, \n",
    "we need to save each of these intermediate plots as an image file. The following code block defines \n",
    "a function that generates a series of image files with the filename `frame-xx.png` and saves them \n",
    "in a subdirectory `tmp`. We apply this function to the array of intermediate grid coordinates that we generated above:"
   ]
  },
  {
   "cell_type": "code",
   "execution_count": null,
   "metadata": {},
   "outputs": [],
   "source": [
    "# Create a series of figures showing the intermediate transforms\n",
    "def make_plots(transarray, color, outdir=\"png-frames\", figuresize=(4,4), figuredpi=150):\n",
    "    '''\n",
    "    Generate a series of png images showing a linear transformation stepwise\n",
    "    '''\n",
    "    nsteps = transarray.shape[0]\n",
    "    ndigits = len(str(nsteps)) # to determine filename padding\n",
    "    maxval = np.abs(transarray.max()) # to set axis limits\n",
    "    # create directory if necessary\n",
    "    import os\n",
    "    if not os.path.exists(outdir):\n",
    "        os.makedirs(outdir)\n",
    "    # create figure\n",
    "    plt.ioff()\n",
    "    fig = plt.figure(figsize=figuresize, facecolor=\"w\")\n",
    "    for j in range(nsteps): # plot individual frames\n",
    "        plt.cla()\n",
    "        plt.scatter(transarray[j,0], transarray[j,1], s=36, c=color, edgecolor=\"none\")\n",
    "        plt.xlim(1.1*np.array([-maxval, maxval]))\n",
    "        plt.ylim(1.1*np.array([-maxval, maxval]))\n",
    "        plt.grid(True)\n",
    "        plt.draw()\n",
    "        # save as png\n",
    "        outfile = os.path.join(outdir, \"frame-\" + str(j+1).zfill(ndigits) + \".png\")\n",
    "        fig.savefig(outfile, dpi=figuredpi)\n",
    "    plt.ion()\n",
    "\n",
    "# Generate figures\n",
    "make_plots(transform, colors, outdir=\"png-frames\")"
   ]
  },
  {
   "cell_type": "markdown",
   "metadata": {},
   "source": [
    "## Creat animation##\n",
    "\n",
    "To stitch the image sequence into an animation, we use the `ImageMagick`, a cross-platform image manipulation library. \n",
    "The following code block performs this operation by making a system call to the `convert` script that is part of ImageMagick. It will take some time to produce the animation gif file, `animation.gif`."
   ]
  },
  {
   "cell_type": "code",
   "execution_count": null,
   "metadata": {},
   "outputs": [],
   "source": [
    "# Convert to gif (works on linux/os-x, requires image-magick)\n",
    "from subprocess import call\n",
    "call(\"cd png-frames && convert -delay 10 frame-*.png animation.gif\", shell=True)\n",
    "# Optional: clean up png files\n",
    "call(\"rm -f png-frames/*.png\", shell=True)"
   ]
  },
  {
   "cell_type": "code",
   "execution_count": null,
   "metadata": {},
   "outputs": [],
   "source": []
  }
 ],
 "metadata": {
  "kernelspec": {
   "display_name": "TensorFlow-GPU",
   "language": "python",
   "name": "tf-gpu"
  },
  "language_info": {
   "codemirror_mode": {
    "name": "ipython",
    "version": 3
   },
   "file_extension": ".py",
   "mimetype": "text/x-python",
   "name": "python",
   "nbconvert_exporter": "python",
   "pygments_lexer": "ipython3",
   "version": "3.6.7"
  }
 },
 "nbformat": 4,
 "nbformat_minor": 2
}
