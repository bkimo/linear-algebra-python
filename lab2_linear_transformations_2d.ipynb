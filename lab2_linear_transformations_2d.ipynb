{
 "cells": [
  {
   "cell_type": "markdown",
   "metadata": {},
   "source": [
    "\n"
   ]
  },
  {
   "cell_type": "markdown",
   "metadata": {},
   "source": [
    "# Two-Dimensional (2D) Linear Transformations "
   ]
  },
  {
   "cell_type": "markdown",
   "metadata": {},
   "source": [
    "A linear transformation of the plane $\\mathbb{R}^2$ is a geometric transformation of the form\n",
    "$$ \n",
    "  A\\vec{x} = \\vec{w}\\ \\ \\  \\Leftrightarrow \\ \\ \\ \n",
    "  \\left[ \\begin{array}{cc}\n",
    "                a & b\\\\ c & d\n",
    "           \\end{array} \n",
    "  \\right]\n",
    "   \\left[ \\begin{array}{c}\n",
    "                x\\\\ y\n",
    "           \\end{array} \n",
    "  \\right] = \n",
    "  \\left[ \\begin{array}{c}\n",
    "                u\\\\ v\n",
    "           \\end{array} \n",
    "  \\right] \n",
    "$$\n",
    "where $a, b, c$ and $d$ are real numbers.\n",
    "\n",
    "Linear transformations leave the origin fixed and preserve parallelism. As an example,\n",
    "consider the matrix\n",
    "$$\n",
    "  A = \\left[\\begin{array}{cc}\n",
    "          2 & -1 \\\\ 1 & 1\n",
    "          \\end{array}\n",
    "      \\right]\n",
    "$$\n",
    "that transforms an arbitrary vector $\\left[ \\begin{array}{c}\n",
    "                x\\\\ y\n",
    "           \\end{array} \\right]$\n",
    "to a linear combination of the column vectors of $A$:\n",
    "\n",
    "$$\n",
    "  \\left[ \\begin{array}{c}\n",
    "                u\\\\ v\n",
    "           \\end{array} \n",
    "  \\right] =\n",
    "  \\left[\\begin{array}{cc}\n",
    "          2 & -1 \\\\ 1 & 1\n",
    "          \\end{array}\n",
    "   \\right]       \n",
    "   \\left[ \\begin{array}{c}\n",
    "                x \\\\ y\n",
    "           \\end{array} \n",
    "  \\right] =\n",
    "  x \\left[ \\begin{array}{c}\n",
    "                2\\\\ 1\n",
    "           \\end{array} \n",
    "  \\right] +\n",
    "  y \\left[ \\begin{array}{c}\n",
    "                -1\\\\ 1\n",
    "           \\end{array} \n",
    "  \\right].\n",
    "$$\n",
    "We can get a visual feel for this transformation by looking at a regular grid of points before and after the transformation:\n",
    "\n",
    "![](img/grid-original-small.png)  ![](img/grid-transformed-small.png)\n",
    "\n",
    "This notebook describes how to use `Numpy` to perform and visualize special linear transformations, the\n",
    "**scaling**, **shearing**, **rotation** and **reflexion** of a plane. "
   ]
  },
  {
   "cell_type": "code",
   "execution_count": 1,
   "metadata": {},
   "outputs": [],
   "source": [
    "# Import necessary libraries:\n",
    "%matplotlib inline\n",
    "import numpy as np\n",
    "import matplotlib as mpl\n",
    "import matplotlib.pyplot as plt\n",
    "\n",
    "import sys\n",
    "sys.path.append('./Utilities/')\n",
    "\n",
    "# Our helper, with the functions: \n",
    "# plot_vector, plot_linear_transformation, plot_linear_transformations\n",
    "from plot_helper import *"
   ]
  },
  {
   "cell_type": "markdown",
   "metadata": {},
   "source": [
    "Let's generate a matrix $A  = \\left[ \\begin{array}{cc}\n",
    "              2 & -1 \\\\ 1 & 1\n",
    "            \\end{array}\n",
    "      \\right]\n",
    "$  using `np.array()`. "
   ]
  },
  {
   "cell_type": "code",
   "execution_count": 7,
   "metadata": {},
   "outputs": [
    {
     "name": "stdout",
     "output_type": "stream",
     "text": [
      "[[ 2 -1]\n",
      " [ 1  1]]\n"
     ]
    }
   ],
   "source": [
    "A = [[2,-1], [1,1]]\n",
    "A = np.array(A)\n",
    "print(A)"
   ]
  },
  {
   "cell_type": "markdown",
   "metadata": {},
   "source": [
    "We can use the NumPy [`dot()`](https://docs.scipy.org/doc/numpy-1.15.0/reference/generated/numpy.dot.html) method to multiply the matrix $A$ and the vector $\\mathbf{x}$:"
   ]
  },
  {
   "cell_type": "code",
   "execution_count": 3,
   "metadata": {},
   "outputs": [
    {
     "name": "stdout",
     "output_type": "stream",
     "text": [
      "[3 3]\n"
     ]
    }
   ],
   "source": [
    "x = np.array((2,1))\n",
    "\n",
    "# Ax as a dot product\n",
    "A.dot(x)\n",
    "# or\n",
    "print(A @ x)"
   ]
  },
  {
   "cell_type": "markdown",
   "metadata": {},
   "source": [
    "Sure enough, this gives the vector $\\mathbf{b}$. Now let's see what happens when we multiply the matrix $A$ with the basis vectors $\\mathbf{e_1}$ and $\\mathbf{e_2}$:"
   ]
  },
  {
   "cell_type": "code",
   "execution_count": null,
   "metadata": {},
   "outputs": [],
   "source": [
    "e1 = np.array((1,0))\n",
    "e2 = np.array((0,1))\n",
    "A.dot(e2)"
   ]
  },
  {
   "cell_type": "code",
   "execution_count": null,
   "metadata": {},
   "outputs": [],
   "source": [
    "A.dot(e2)"
   ]
  },
  {
   "cell_type": "markdown",
   "metadata": {},
   "source": [
    "Let's try to visualize that. Our helpful custom function `plot_linear_transformation()` draws a grid of points on the plane, then applies the linear transformation described by the matrix argument, and plots the transformed grid. This is what $A$ does to the grid:"
   ]
  },
  {
   "cell_type": "code",
   "execution_count": 6,
   "metadata": {},
   "outputs": [
    {
     "data": {
      "image/png": "[encoded data removed]",
      "text/plain": [
       "<Figure size 800x400 with 2 Axes>"
      ]
     },
     "metadata": {
      "needs_background": "light"
     },
     "output_type": "display_data"
    }
   ],
   "source": [
    "plot_linear_transformation(A)"
   ]
  },
  {
   "cell_type": "markdown",
   "metadata": {},
   "source": [
    "##### Key idea:\n",
    "\n",
    "> A **linear transformation** keeps the origin in place and transforms straight lines to straight lines.\n",
    "\n",
    "The third episode of the series [_\"Essence of Linear Algebra\"_](http://3b1b.co/eola) uses wonderful animations to illustrate the idea of matrices as linear transformations [3]."
   ]
  },
  {
   "cell_type": "markdown",
   "metadata": {},
   "source": [
    "Let's practice with another example. Consider the matrix:\n",
    "\n",
    "$$ M = \\begin{bmatrix} 1 & 2 \\\\\n",
    "                      2 & 1 \\end{bmatrix} $$\n",
    "\n",
    "The first column corresponds to the vector where $\\mathbf{e_1}$ lands after the transformation, and the second column is where $\\mathbf{e_2}$ lands:\n",
    "$$\n",
    "\\mathbf{e_1} = \\begin{bmatrix} 1 \\\\ 0 \\end{bmatrix}  \\Rightarrow  \\begin{bmatrix} 1 \\\\ 2 \\end{bmatrix} \\\\\n",
    "\\mathbf{e_2} = \\begin{bmatrix} 0 \\\\ 1 \\end{bmatrix}  \\Rightarrow  \\begin{bmatrix} 2 \\\\ 1 \\end{bmatrix}\n",
    "$$\n",
    "\n",
    "Any arbitrary vector on the plane, $\\mathbf{x} = \\left[ \\begin{array}{c} x \\\\ y  \\end{array} \\right]$, is transformed to: \n",
    "\n",
    "$$\n",
    "  x \\left[ \\begin{array}{c} 1 \\\\ 2  \\end{array} \\right] + \n",
    "  y \\left[ \\begin{array}{c} 2 \\\\ 1  \\end{array} \\right]\n",
    "$$"
   ]
  },
  {
   "cell_type": "code",
   "execution_count": null,
   "metadata": {},
   "outputs": [],
   "source": [
    "M = [[1,2], [2,1]]\n",
    "M = np.array(M)\n",
    "print(M)"
   ]
  },
  {
   "cell_type": "code",
   "execution_count": null,
   "metadata": {},
   "outputs": [],
   "source": [
    "M.dot(e1)"
   ]
  },
  {
   "cell_type": "code",
   "execution_count": null,
   "metadata": {},
   "outputs": [],
   "source": [
    "M.dot(e2)"
   ]
  },
  {
   "cell_type": "code",
   "execution_count": null,
   "metadata": {},
   "outputs": [],
   "source": [
    "plot_linear_transformation(M)"
   ]
  },
  {
   "cell_type": "markdown",
   "metadata": {},
   "source": [
    "To see what the transformation does to one particular vector, we can use our custom function `plot_vector`, using the vector and its transformed self. Try several different ones…"
   ]
  },
  {
   "cell_type": "code",
   "execution_count": null,
   "metadata": {},
   "outputs": [],
   "source": [
    "x = np.array((0.5,1))\n",
    "\n",
    "vectors = [x, M.dot(x)]\n",
    "plot_vector(vectors)"
   ]
  },
  {
   "cell_type": "markdown",
   "metadata": {},
   "source": [
    "##### Note:\n",
    "\n",
    "When we represent a matrix in Python using the NumPy array data type, we define it by listing the **rows** of the matrix. We didn't emphasize this in the examples above, where we chose matrices whose rows matched the columns! But that's just a coincidence. Look at another case:"
   ]
  },
  {
   "cell_type": "code",
   "execution_count": null,
   "metadata": {},
   "outputs": [],
   "source": [
    "N = np.array([[1,2],[-3,2]])\n",
    "print(N)"
   ]
  },
  {
   "cell_type": "code",
   "execution_count": null,
   "metadata": {},
   "outputs": [],
   "source": [
    "plot_linear_transformation(N)"
   ]
  },
  {
   "cell_type": "code",
   "execution_count": null,
   "metadata": {},
   "outputs": [],
   "source": [
    "# Rotation\n",
    "theta = np.pi/3 # 60 degree clockwise rotation\n",
    "B = [[np.cos(theta), np.sin(theta)], [-np.sin(theta), np.cos(theta)]]\n",
    "B = np.array(B)\n",
    "print(B)"
   ]
  },
  {
   "cell_type": "code",
   "execution_count": null,
   "metadata": {},
   "outputs": [],
   "source": [
    "plot_linear_transformation(B)"
   ]
  },
  {
   "cell_type": "markdown",
   "metadata": {},
   "source": [
    "**Exercise 1.**\n",
    "\n",
    "Create a $2\\times2$ matrix of your choosing (as a NumPy array of the row list), print it, then multiply it by the basis vectors $\\mathbf{e_1}$ and $\\mathbf{e_2}$, and finally visualize it using our helper function `plot_linear_transformation()`."
   ]
  },
  {
   "cell_type": "markdown",
   "metadata": {},
   "source": [
    "## Matrix-vector multiplication\n",
    "\n",
    "Consider again the matrix $A$ defined above. As a linear transformation, it transforms any arbitrary vector on the plane, $\\mathbf{x} = \\left[ \\begin{array}{c} x \\\\ y  \\end{array} \\right]$ , to: \n",
    "$$\n",
    "  x \\left[ \\begin{array}{c} -2 \\\\ 1  \\end{array} \\right] + \n",
    "  y \\left[ \\begin{array}{c} 1 \\\\ -3  \\end{array} \\right]\n",
    "$$\n",
    "\n",
    "Since applying the linear transformation *is* computing the matrix-vector multiplication $A\\mathbf{x}$, we see that matrix-vector multiplication is a combination of the matrix columns scaled by the vector components:\n",
    "\n",
    "$$\n",
    "   A\\mathbf{x} = x\\,\\mathbf{a} + y\\,\\mathbf{b}\n",
    "$$\n",
    "where the vectors $\\mathbf{a}$ and $\\mathbf{b}$ are the columns of $A$.\n",
    "\n",
    "##### Key idea:\n",
    "\n",
    "> The matrix-vector multiplication $A\\mathbf{x}$ is a linear combination of the columns of $A$ scaled by the components of $\\mathbf{x}$.\n",
    "\n",
    "This is also the case in 3 dimensions. Consider the matrix $B$ and the vector $\\mathbf{y}=\\left[ \\begin{array}{c} x \\\\ y \\\\z \\end{array} \\right]$\n",
    "\n",
    "$$ B = \\begin{bmatrix} 1 & 2 & 4\\\\\n",
    "                       2 & 1 & -1\\\\\n",
    "                       0 & 3 & 1 \\end{bmatrix} $$\n",
    "\n",
    "$$ B\\mathbf{y} = x\\left[ \\begin{array}{c} 1 \\\\ 2 \\\\0 \\end{array} \\right] + \n",
    "                 y\\left[ \\begin{array}{c} 2 \\\\ 1 \\\\3 \\end{array} \\right] + \n",
    "                 z\\left[ \\begin{array}{c} 4 \\\\ -1 \\\\1 \\end{array} \\right] \n",
    "$$"
   ]
  },
  {
   "cell_type": "markdown",
   "metadata": {},
   "source": [
    "## Some special transformations\n",
    "\n",
    "### Rotation\n",
    "\n",
    "Imagine that you want a transformation that takes any vector and rotates it 90 degrees to the left. You can visualize that the unit vectors need to be transformed as follows:\n",
    "\n",
    "$$\n",
    "\\mathbf{e_1} = \\begin{bmatrix} 1 \\\\ 0 \\end{bmatrix}  \\Rightarrow  \\begin{bmatrix} 0 \\\\ 1 \\end{bmatrix} \\\\\n",
    "\\mathbf{e_2} = \\begin{bmatrix} 0 \\\\ 1 \\end{bmatrix}  \\Rightarrow  \\begin{bmatrix} -1 \\\\ 0 \\end{bmatrix}\n",
    "$$\n",
    "\n",
    "That means that the matrix that transforms all vectors by a left 90-degree **rotation** is:\n",
    "\n",
    "$$ R = \\begin{bmatrix} 0 & -1 \\\\\n",
    "                       1 & 0 \\end{bmatrix} $$\n",
    "\n",
    "The rotation of any vector $\\mathbf{x}$ is the multiplication $R\\mathbf{x}$."
   ]
  },
  {
   "cell_type": "markdown",
   "metadata": {},
   "source": [
    "### Shear\n",
    "\n",
    "Another special transformation turns every square into a diamond shape by leaving $\\mathbf{x}$ unchanged, and transforming $\\,\\mathbf{j}$ so its tip falls on the coordinates $(1,1)$: \n",
    "\n",
    "$$\n",
    "\\mathbf{e_1} = \\begin{bmatrix} 1 \\\\ 0 \\end{bmatrix}  \\Rightarrow  \\begin{bmatrix} 1 \\\\ 0 \\end{bmatrix} \\\\\n",
    "\\mathbf{e_2} = \\begin{bmatrix} 0 \\\\ 1 \\end{bmatrix}  \\Rightarrow  \\begin{bmatrix} 1 \\\\ 1 \\end{bmatrix}\n",
    "$$\n",
    "\n",
    "This transformation is often called **shear**, and the matrix is:\n",
    "\n",
    "\n",
    "$$ S = \\begin{bmatrix} 1 & 1 \\\\\n",
    "                       0 & 1 \\end{bmatrix} $$\n",
    "\n",
    "The shear of any vector $\\mathbf{x}$ is the multiplication $S\\mathbf{x}$.\n",
    "\n",
    "Let's define these matrices as NumPy arrays, then use our helper function to visualize the corresponding transformation."
   ]
  },
  {
   "cell_type": "code",
   "execution_count": 8,
   "metadata": {},
   "outputs": [
    {
     "name": "stdout",
     "output_type": "stream",
     "text": [
      "[[ 0 -1]\n",
      " [ 1  0]]\n"
     ]
    }
   ],
   "source": [
    "rotation = np.array([[0,-1], [1,0]])\n",
    "print(rotation)"
   ]
  },
  {
   "cell_type": "code",
   "execution_count": 9,
   "metadata": {},
   "outputs": [
    {
     "data": {
      "image/png": "[encoded data removed]",
      "text/plain": [
       "<Figure size 800x400 with 2 Axes>"
      ]
     },
     "metadata": {
      "needs_background": "light"
     },
     "output_type": "display_data"
    }
   ],
   "source": [
    "plot_linear_transformation(rotation)"
   ]
  },
  {
   "cell_type": "code",
   "execution_count": null,
   "metadata": {},
   "outputs": [],
   "source": [
    "shear = np.array([[1,1], [0,1]])\n",
    "print(shear)"
   ]
  },
  {
   "cell_type": "code",
   "execution_count": null,
   "metadata": {},
   "outputs": [],
   "source": [
    "plot_linear_transformation(shear)"
   ]
  },
  {
   "cell_type": "markdown",
   "metadata": {},
   "source": [
    "### Scaling\n",
    "\n",
    "A **scaling** transformation doesn't rotate or shear the basis vectors, but scales them in length. For example, a transformation that elongates $\\mathbf{e_1}$ but shrinks $\\mathbf{e_2}$ could do:\n",
    "\n",
    "\n",
    "$$\n",
    "\\mathbf{e_1} = \\begin{bmatrix} 1 \\\\ 0 \\end{bmatrix}  \\Rightarrow  \\begin{bmatrix} 2 \\\\ 0 \\end{bmatrix} \\\\\n",
    "\\mathbf{e_2} = \\begin{bmatrix} 0 \\\\ 1 \\end{bmatrix}  \\Rightarrow  \\begin{bmatrix} 0 \\\\ 0.5 \\end{bmatrix}\n",
    "$$\n",
    "\n",
    "Look at what the matrix transformation does in this case…"
   ]
  },
  {
   "cell_type": "code",
   "execution_count": null,
   "metadata": {},
   "outputs": [],
   "source": [
    "scale = np.array([[2,0], [0,0.5]])\n",
    "print(scale)\n",
    "plot_linear_transformation(scale)"
   ]
  },
  {
   "cell_type": "markdown",
   "metadata": {},
   "source": [
    "The common structure of scaling matrices is that they have non-zero values in the diagonal, but zero values elsewhere.\n",
    "One special scaling matrix leaves the lengths of the basis vectors unchanged: it is called the **identity** matrix:\n",
    "\n",
    "\n",
    "$$ I = \\begin{bmatrix} 1 & 0 \\\\\n",
    "                       0 & 1 \\end{bmatrix} $$\n",
    "\n",
    "NumPy creates identity arrays of any size with [`np.identity()`](https://docs.scipy.org/doc/numpy/reference/generated/numpy.eye.html?highlight=eye#numpy.eye), passing the dimension (number of rows and columns) as argument. In the 2D case:"
   ]
  },
  {
   "cell_type": "code",
   "execution_count": null,
   "metadata": {},
   "outputs": [],
   "source": [
    "I = np.identity(2)\n",
    "print(I)"
   ]
  },
  {
   "cell_type": "markdown",
   "metadata": {},
   "source": [
    "**Exercise 2**\n",
    "\n",
    "Create a rotation matrix that rotates every vector 90 degrees clockwise, then visualize the transformation with our helper function."
   ]
  },
  {
   "cell_type": "markdown",
   "metadata": {},
   "source": [
    "**Exercise 3**\n",
    "\n",
    "Construct a $2\\times 2$ matrix $A_1$ that performs a horizontal shear transforming $\\vec{e}_2$ into $\\vec{e}_2+2\\vec{e}_1$ (leaving $\\vec{e}_1$ unchanged). Then, write a Python code to visualize the matrix transformation."
   ]
  },
  {
   "cell_type": "markdown",
   "metadata": {},
   "source": [
    "**Exercise 4**\n",
    "\n",
    "\n",
    "Construct a $2\\times 2$ matrix $A_2$ that performs and reflects vectors through the line $y=-x$. Then, write a Python code to visualize the transformation."
   ]
  },
  {
   "cell_type": "markdown",
   "metadata": {},
   "source": [
    "**Exercise 5**\n",
    "Write a Python code to compute $A =A_1A_2$ and visualize the matrix transformation $A\\vec{x}$, where $A_1$ and $A_2$ are the matrices obtained in Exercise 3 and 4."
   ]
  },
  {
   "cell_type": "markdown",
   "metadata": {},
   "source": [
    "## Matrix-matrix multiplication\n",
    "\n",
    "What do you think happens when we apply two linear transformations? For example, if we rotate all vectors by 90 degrees to the left, and *then* apply a shear transformation?\n",
    "\n",
    "Take any vector $\\mathbf{x}$, rotate it by multiplying it with the matrix $R$, then take this transformed vector and multiply it by the matrix $S$. The final vector is the result of the two combined linear transformations. It is analogous to the composition of two functions, and its computation leads to a matrix-matrix multiplication:\n",
    "\n",
    "$$\n",
    "  S\\, R\\, \\mathbf{x} =\n",
    "   \\begin{bmatrix} 1 & 1 \\\\\n",
    "                       0 & 1 \\end{bmatrix}\n",
    "  \\begin{bmatrix} 0 & -1 \\\\\n",
    "                       1 & 0 \\end{bmatrix}\n",
    "  \\mathbf{x}\n",
    "$$\n",
    "\n",
    "We can almost work this out in our heads. \n",
    "The unit vector $\\mathbf{e_1}$ gets first rotated to $\\begin{bmatrix} 0 \\\\ 1 \\end{bmatrix}$ (the first column of $R$), and then is transformed by $S$ via the multiplication:\n",
    "\n",
    "$$\n",
    "  S\\,\\begin{bmatrix} 0 \\\\ 1 \\end{bmatrix} =\n",
    "    \\begin{bmatrix} 1 & 1 \\\\\n",
    "                    0 & 1 \\end{bmatrix}\n",
    "  \\begin{bmatrix} 0 \\\\ 1 \\end{bmatrix} =\n",
    "  0 \\begin{bmatrix} 1 \\\\ 0 \\end{bmatrix}+\n",
    "  1 \\begin{bmatrix} 1 \\\\ 1 \\end{bmatrix} =\n",
    "    \\begin{bmatrix} 1 \\\\ 1 \\end{bmatrix}\n",
    "$$\n",
    "\n",
    "Similarly for the unit vector $\\mathbf{e_2}$, we now find it lands on $\\begin{bmatrix} -1 \\\\ 0 \\end{bmatrix}$. We have the two columns of the resulting matrix from the multiplication $SR$.\n",
    "\n",
    "Python has a built-in operator that computes matrix-matrix multiplication: `@`. Try it:"
   ]
  },
  {
   "cell_type": "code",
   "execution_count": null,
   "metadata": {},
   "outputs": [],
   "source": [
    "print(shear@rotation)"
   ]
  },
  {
   "cell_type": "markdown",
   "metadata": {},
   "source": [
    "Yep. Those are the two column vectors we worked out above. Beautiful. \n",
    "Let's visualize the combined transformation now."
   ]
  },
  {
   "cell_type": "code",
   "execution_count": null,
   "metadata": {},
   "outputs": [],
   "source": [
    "plot_linear_transformation(shear@rotation)"
   ]
  },
  {
   "cell_type": "markdown",
   "metadata": {},
   "source": [
    "##### Key idea:\n",
    "\n",
    "> Matrix multiplication corresponds to composition of linear transformations, i.e., applying two transformations in sequence.\n",
    "\n",
    "This view of matrix multiplication will save you from a lot of unnecessary memorization. It also illuminates the properties of matrix multiplications. For example, is it the same to apply shear and *then* rotate, instead of the other way around? \n",
    "\n",
    "This is the same question as asking if matrix multiplication is commutative. Is $SR$ the same as $RS$?\n",
    "\n",
    "We have a helper function that plots the grid lines on a plane after two transformations in sequence. Let's try it with $S$ and $R$ in swapped orders."
   ]
  },
  {
   "cell_type": "code",
   "execution_count": null,
   "metadata": {},
   "outputs": [],
   "source": [
    "# the order of transformation: from right to left\n",
    "plot_linear_transformations(rotation, shear) "
   ]
  },
  {
   "cell_type": "code",
   "execution_count": null,
   "metadata": {},
   "outputs": [],
   "source": [
    "plot_linear_transformations(shear, rotation) "
   ]
  },
  {
   "cell_type": "markdown",
   "metadata": {},
   "source": [
    "Nope. The result is not the same. The order of transformations matters and **matrix mulitiplication is not commutative** (in general).\n",
    "\n",
    "Episode four of the series [_\"Essence of Linear Algebra\"_](http://3b1b.co/eola) beautifully illustrates the key idea of matrix multiplication as composition of linear transformations [4]."
   ]
  },
  {
   "cell_type": "markdown",
   "metadata": {},
   "source": [
    "## Inverse of a matrix\n",
    "\n",
    "Thinking of matrices as linear transformations also helps demistify the idea of an **inverse**. We won't go into details here, but imagine that you apply two transformations in sequence, and every vector in 2D space ends up just where it started. Well, that can happen when one transformation undoes the previous one. This means that the second transformation is the inverse of the first.\n",
    "\n",
    "NumPy has great built-in Linear Algebra capabilities in the `numpy.linalg` module. Among its many functions, we get [`inv()`](https://docs.scipy.org/doc/numpy-1.15.0/reference/generated/numpy.linalg.inv.html), to compute the inverse of a matrix. So we can try right away to visualize a sequence of transformations: first with the matrix $M$, then the inverse of $M$. Check it out."
   ]
  },
  {
   "cell_type": "code",
   "execution_count": null,
   "metadata": {},
   "outputs": [],
   "source": [
    "from numpy.linalg import inv"
   ]
  },
  {
   "cell_type": "code",
   "execution_count": null,
   "metadata": {},
   "outputs": [],
   "source": [
    "M = np.array([[1,2], [2,1]])\n",
    "M_inv = inv(M)\n",
    "plot_linear_transformations(M, M_inv)"
   ]
  },
  {
   "cell_type": "markdown",
   "metadata": {},
   "source": [
    "## Linear transformation on images ##\n",
    "\n",
    "Here we will do basic liear transformations on images. There are many advanced python modules of manipulating images, and you may google to find out. One example is [here](https://automatetheboringstuff.com/chapter17/)."
   ]
  },
  {
   "cell_type": "code",
   "execution_count": null,
   "metadata": {},
   "outputs": [],
   "source": [
    "# Import a image manipulating library \n",
    "#import imageio\n",
    "import matplotlib.image as mpimg"
   ]
  },
  {
   "cell_type": "markdown",
   "metadata": {},
   "source": [
    "### Images are Data ###"
   ]
  },
  {
   "cell_type": "code",
   "execution_count": null,
   "metadata": {},
   "outputs": [],
   "source": [
    "# Load an image file.\n",
    "RGB_Image = mpimg.imread(\"./img/lennon.png\")\n",
    "\n",
    "# To see basic features of the imported image.\n",
    "print(type(RGB_Image), RGB_Image.dtype, RGB_Image.shape) \n",
    "print(' ' )\n",
    "print(RGB_Image) # See the image as ndarray"
   ]
  },
  {
   "cell_type": "code",
   "execution_count": null,
   "metadata": {},
   "outputs": [],
   "source": [
    "x, y, channel = (RGB_Image.shape)          # X size, Y size, number of channel \n",
    "                                           # (3 for RGB image).\n",
    "\n",
    "Red_Image = RGB_Image[:,:,0]               # Store Red channel in a Numpy array.\n",
    "Green_Image = RGB_Image[:,:,1]             # Store Green channel in a Numpy array.\n",
    "Blue_Image = RGB_Image[:,:,2]              # Store Blue channel in a Numpy array.\n",
    "\n",
    "#-------------------------:\n",
    "# Show images on screen   :\n",
    "#-------------------------:\n",
    "plt.figure(figsize = (7,7))\n",
    "plt.subplot(2,2,1); plt.imshow(RGB_Image); plt.title('RGB')\n",
    "plt.subplot(2,2,2); plt.imshow(Red_Image, cmap='gray'); plt.title('RED channel')\n",
    "plt.subplot(2,2,3); plt.imshow(Green_Image, cmap='gray'); plt.title('GREEN channel')\n",
    "plt.subplot(2,2,4); plt.imshow(Blue_Image, cmap='gray'); plt.title('BLUE channel')\n",
    "plt.show()"
   ]
  },
  {
   "cell_type": "markdown",
   "metadata": {},
   "source": [
    "### Linear transformation##"
   ]
  },
  {
   "cell_type": "code",
   "execution_count": null,
   "metadata": {},
   "outputs": [],
   "source": [
    "# Define a linear transformation function\n",
    "def linear_transformation(src, A):\n",
    "    m, n = src.shape\n",
    "    points = np.mgrid[0:n, 0:m].reshape((2, m*n))\n",
    "    new_points = np.linalg.inv(A).dot(points).round().astype(int)\n",
    "    x, y = new_points.reshape((2, m, n), order='F')\n",
    "    indices = x + n*y\n",
    "    return np.take(src, indices, mode='wrap')"
   ]
  },
  {
   "cell_type": "code",
   "execution_count": null,
   "metadata": {},
   "outputs": [],
   "source": [
    "A = np.array([[1, 0], [0, 0.5]]) # Scaling\n",
    "dst = linear_transformation(Red_Image, A)"
   ]
  },
  {
   "cell_type": "code",
   "execution_count": null,
   "metadata": {},
   "outputs": [],
   "source": [
    "plt.figure(figsize = (10,10))\n",
    "plt.subplot(1,2,1); plt.imshow(Red_Image, cmap='gray'); plt.title('Original')\n",
    "plt.subplot(1,2,2); plt.imshow(dst, cmap='gray'); plt.title('Transformed')\n",
    "plt.show()"
   ]
  },
  {
   "cell_type": "code",
   "execution_count": null,
   "metadata": {},
   "outputs": [],
   "source": [
    "B = np.array([[1, 0], [-1, 1]]) # Rotation\n",
    "dst2 = linear_transformation(Red_Image, B)\n",
    "\n",
    "plt.figure(figsize = (10,10))\n",
    "plt.subplot(1,2,1); plt.imshow(Red_Image, cmap='gray'); plt.title('Original')\n",
    "plt.subplot(1,2,2); plt.imshow(dst2, cmap='gray'); plt.title('Transformed')\n",
    "plt.show()"
   ]
  },
  {
   "cell_type": "code",
   "execution_count": null,
   "metadata": {},
   "outputs": [],
   "source": [
    "C = np.array([[1, 0], [0, -1]]) # Reflection about x-axis\n",
    "#C = np.array([[-1, 0], [0, 1]]) # Reflection about y-axis\n",
    "#C = np.array([[0, 1], [1, 0]]) # Reflection about y-axis\n",
    "dst3 = linear_transformation(Red_Image, C)\n",
    "plt.figure(figsize = (10,10))\n",
    "plt.subplot(1,2,1); plt.imshow(Red_Image, cmap='gray'); plt.title('Original')\n",
    "plt.subplot(1,2,2); plt.imshow(dst3, cmap='gray'); plt.title('Transformed')\n",
    "plt.show"
   ]
  },
  {
   "cell_type": "markdown",
   "metadata": {},
   "source": [
    "**Main Sources** \n",
    "    1. https://notgnoshi.github.io/linear-transformations/\n",
    "    2. https://dododas.github.io/linear-algebra-with-python/posts/16-12-29-2d-transformations.html\n",
    "    \n",
    "**References**   \n",
    "[1] Vectors, what even are they? Essence of linear algebra, chapter 1. Video at https://youtu.be/fNk_zzaMoSs (2016), by Grant Sanderson.\n",
    "\n",
    "[2] Linear combinations, span, and basis vectors. Essence of linear algebra, chapter 2. Video at https://youtu.be/k7RM-ot2NWY (2016), by Grant Sanderson.\n",
    "\n",
    "[3] Linear transformations and matrices. Essence of linear algebra, chapter 3. Video at https://youtu.be/kYB8IZa5AuE (2016), by Grant Sanderson.\n",
    "   \n",
    "[4] Matrix multiplication as composition. Essence of linear algebra, chapter 4. Video at https://youtu.be/XkY2DOUCWMU (2016), by Grant Sanderson.\n",
    "    \n",
    "[5] https://mmas.github.io/linear-transformations-numpy   \n",
    "\n",
    "[6] [Affine Image Transformations in Python with Numpy, Pillow and OpenCV](https://stackabuse.com/affine-image-transformations-in-python-with-numpy-pillow-and-opencv/)\n",
    "\n",
    "**Further Reading**\n",
    "\n",
    "* [Affine transform of an image](https://matplotlib.org/gallery/images_contours_and_fields/affine_image.html#sphx-glr-gallery-images-contours-and-fields-affine-image-py)"
   ]
  },
  {
   "cell_type": "code",
   "execution_count": null,
   "metadata": {},
   "outputs": [],
   "source": []
  }
 ],
 "metadata": {
  "kernelspec": {
   "display_name": "Python 3 (ipykernel)",
   "language": "python",
   "name": "python3"
  },
  "language_info": {
   "codemirror_mode": {
    "name": "ipython",
    "version": 3
   },
   "file_extension": ".py",
   "mimetype": "text/x-python",
   "name": "python",
   "nbconvert_exporter": "python",
   "pygments_lexer": "ipython3",
   "version": "3.9.5"
  },
  "toc": {
   "base_numbering": 1,
   "nav_menu": {},
   "number_sections": true,
   "sideBar": true,
   "skip_h1_title": false,
   "title_cell": "Table of Contents",
   "title_sidebar": "Contents",
   "toc_cell": false,
   "toc_position": {},
   "toc_section_display": true,
   "toc_window_display": true
  }
 },
 "nbformat": 4,
 "nbformat_minor": 4
}
