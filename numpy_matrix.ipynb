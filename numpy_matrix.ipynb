{
 "cells": [
  {
   "cell_type": "markdown",
   "metadata": {},
   "source": [
    "# <center> Matrix Algebra with Numpy </center> #"
   ]
  },
  {
   "cell_type": "markdown",
   "metadata": {},
   "source": [
    "## 1. What is a matrix? ##\n",
    "\n",
    "A matrix is a two-dimensional data structure where numbers are arranged into rows and columns. For example:\n",
    "\n",
    " ![](img/matrix.jpg)\n",
    "\n",
    "This matrix is a $3\\times 4$ (three-by-four) matrix because it has 3 rows and\n",
    "4 columns."
   ]
  },
  {
   "cell_type": "markdown",
   "metadata": {},
   "source": [
    "## 2. Python Matrix ##\n",
    "\n",
    "Python doesn't have a built-in type for matrices. However, we can treat list of a list as a matrix. For example:"
   ]
  },
  {
   "cell_type": "code",
   "execution_count": null,
   "metadata": {},
   "outputs": [],
   "source": [
    "A = [[1, 4, 5, 12], \n",
    "    [-5, 8, 9, 0],\n",
    "    [-6, 7, 11, 19]]\n",
    "\n",
    "print(\"A =\", A) \n",
    "print(\"A[0] =\", A[0])  # 1st row. Note that the index starts from 0 but not 1.\n",
    "print(\"A[1] =\", A[1])      # 2nd row\n",
    "print(\"A[1][2] =\", A[1][2])   # 3rd element of 2nd row\n",
    "print(\"A[0][-1] =\", A[0][-1])   # Last element of 1st Row\n",
    "\n",
    "column = [];        # empty list\n",
    "for row in A:\n",
    "  column.append(row[2])   \n",
    "\n",
    "print(\"3rd column =\", column)"
   ]
  },
  {
   "cell_type": "code",
   "execution_count": null,
   "metadata": {},
   "outputs": [],
   "source": [
    "#Likewise, we can define a vector as a list.\n",
    "vec_x = [2.0, 3.0, 5.0] # A row vector\n",
    "print(vec_x)     \n",
    "print(vec_x[0], vec_x[1] , vec_x[2])  # To access each component of the vecor."
   ]
  },
  {
   "cell_type": "markdown",
   "metadata": {},
   "source": [
    "We may use Python matrix for simple computational task, however, there is a better way of working with matrices in Python using [Numpy](https://docs.scipy.org/doc/numpy-1.10.1/user/whatisnumpy.html)."
   ]
  },
  {
   "cell_type": "markdown",
   "metadata": {},
   "source": [
    "## 3. NumPy Array ##\n",
    "\n",
    "`NumPy` is a Python module that supports vectors and matrices in an optimized way. Using the built-in data structures of the Python programming language, we just implemented examples of vectors and matrices, but NumPy gives us a better way. Because NumPy is written in C code, it’s also incredibly fast to do:"
   ]
  },
  {
   "cell_type": "markdown",
   "metadata": {},
   "source": [
    "Let's take some examples:"
   ]
  },
  {
   "cell_type": "code",
   "execution_count": null,
   "metadata": {},
   "outputs": [],
   "source": [
    "import numpy as np\n",
    "\n",
    "# A 1D array, shape-(3,)\n",
    "vector1 = np.array([1,2,3]) \n",
    "\n",
    "# A 2D array, shape-(2,3)\n",
    "matrix1 = np.array( [[0,4,1], [2,0,1]] ) \n",
    "\n",
    "# A 3D array, shape-(2, 2, 2)\n",
    "matrix2 = np.array([ [[0, 1],\n",
    "                      [2, 3]],\n",
    "                     [[4, 5],\n",
    "                      [6, 7]] ])\n",
    "\n",
    "print(vector1, type(vector1), vector1.dtype, vector1.shape, '\\n')\n",
    "print(matrix1, type(matrix1), matrix1.dtype, matrix1.shape, '\\n')\n",
    "print(matrix2, type(matrix2), matrix2.dtype, matrix2.shape)"
   ]
  },
  {
   "cell_type": "markdown",
   "metadata": {},
   "source": [
    "As you can see, NumPy's array class is called `ndarray`. Here, `np.array()` replaces the previous *Python Matrix* we used to represent these data structures."
   ]
  },
  {
   "cell_type": "markdown",
   "metadata": {},
   "source": [
    "### 3.1 Array of integers, floats and complex Numbers ###"
   ]
  },
  {
   "cell_type": "code",
   "execution_count": null,
   "metadata": {},
   "outputs": [],
   "source": [
    "B1 = np.array([[1, 2, 3], [3, 4, 5]])\n",
    "print(B1)\n",
    "\n",
    "B2 = np.array([[1.1, 2, 3], [3, 4, 5]]) # Array of floats\n",
    "print(B2)\n",
    "\n",
    "B3 = np.array([[1, 2, 3], [3, 4, 5]], dtype = complex) # Array of complex numbers\n",
    "print(B3)                                              # j = sqrt(-1)\n",
    "\n",
    "a = np.array([1,2,3])\n",
    "b = np.array([4,5,6])\n",
    "B4 = a + 1j*b # Note that the imaginary part is `1j` but not 'j'\n",
    "print(B4)\n",
    "print(B4*(2+1j))"
   ]
  },
  {
   "cell_type": "markdown",
   "metadata": {},
   "source": [
    "### 3.2 Array of zeros and ones ###"
   ]
  },
  {
   "cell_type": "code",
   "execution_count": null,
   "metadata": {},
   "outputs": [],
   "source": [
    "zeors_array = np.zeros( (2, 3) )\n",
    "print(zeors_array)\n",
    "\n",
    "ones_array = np.ones( (1, 5), dtype=np.int32 ) # specifying dtype\n",
    "print(ones_array)      "
   ]
  },
  {
   "cell_type": "markdown",
   "metadata": {},
   "source": [
    "Here, we have specified `dtype` to 32 bits (4 bytes). Hence, this array can take values from $-2^{31}$ to $2^{31}-1$."
   ]
  },
  {
   "cell_type": "markdown",
   "metadata": {},
   "source": [
    "### 3.3 Manipulating arrays with **reshape()** ###\n",
    "\n",
    "NumPy provides an assortment of functions that allow us manipulate the way that an array’s data can be accessed. These permit us to reshape an array, change its dimensionality, and swap the positions of its axex. \n",
    "\n",
    "A complete listing of the available array-manipulation functions can be found in the offocial Numpy documentation [Array manipulation routines](https://docs.scipy.org/doc/numpy/reference/routines.array-manipulation.html). Among these functions, the `reshape()` function is especially useful.\n",
    "\n",
    "The `reshape()` function allows you to change the dimensionality and layout of a given array. Let’s take a shape-(6,) array, and reshape it to a shape-(2, 3) array:"
   ]
  },
  {
   "cell_type": "code",
   "execution_count": null,
   "metadata": {},
   "outputs": [],
   "source": [
    "x = np.array([0, 1, 2, 3, 4, 5])\n",
    "\n",
    "# Reshape a shape-(6,) array into a shape-(2,3) array\n",
    "x.reshape(2,3) # This doesn't cahnge 'x'\n",
    "print('x = ', x, '\\n', 'x_reshaped = ', x.reshape(2,3))"
   ]
  },
  {
   "cell_type": "markdown",
   "metadata": {},
   "source": [
    "You can also conveniently reshape an array by “setting” its shape via assignment:"
   ]
  },
  {
   "cell_type": "code",
   "execution_count": null,
   "metadata": {},
   "outputs": [],
   "source": [
    "# equivalent to: x = x.reshape(2, 3)\n",
    "x.shape = (2, 3) #This change 'x'\n",
    "print(x)"
   ]
  },
  {
   "cell_type": "markdown",
   "metadata": {},
   "source": [
    "Of course, the size the the initial array must match the size of the to-be reshaped array:"
   ]
  },
  {
   "cell_type": "code",
   "execution_count": null,
   "metadata": {},
   "outputs": [],
   "source": [
    "# an array with 5 numbers are cannot be reshaped\n",
    "# into a (3, 2) array\n",
    "np.array([0, 1, 2, 3, 4]).reshape(3, 2)"
   ]
  },
  {
   "cell_type": "markdown",
   "metadata": {},
   "source": [
    "Multidimensional arrays can be reshaped too:"
   ]
  },
  {
   "cell_type": "code",
   "execution_count": null,
   "metadata": {},
   "outputs": [],
   "source": [
    "# reshaping a multidimensional array\n",
    "y = np.array([[ 0,  1,  2,  3],\n",
    "              [ 4,  5,  6,  7],\n",
    "              [ 8,  9, 10, 11]])\n",
    "\n",
    "# reshape from (3, 4) to (2, 3, 2)\n",
    "y.reshape(2, 3, 2)"
   ]
  },
  {
   "cell_type": "markdown",
   "metadata": {},
   "source": [
    "Because the size of an input array and the resulting reshaped array must agree, you can specify one of the dimension-sizes in the reshape function to be -1, and this will cue NumPy to compute that dimension’s size for you. For example, if you are reshaping a shape-(36,) array into a shape-(3, 4, 3) array. The following are valid:"
   ]
  },
  {
   "cell_type": "code",
   "execution_count": null,
   "metadata": {},
   "outputs": [],
   "source": [
    "# Equivalent ways of specifying a reshape\n",
    "# np.arange(36) produces the shape-(36,) array ([0, 1, 2, ..., 35])\n",
    "np.arange(36).reshape(3, 4, 3)   # (36,) --reshape--> (3, 4, 3)\n",
    "np.arange(36).reshape(3, 4, -1)  # NumPy replaces -1 with 36/(3*4) -> 3\n",
    "np.arange(36).reshape(3, -1, 3)  # NumPy replaces -1 with 36/(3*3) -> 4\n",
    "np.arange(36).reshape(-1, 4, 3)  # NumPy replaces -1 with 36/(3*4) -> 3"
   ]
  },
  {
   "cell_type": "markdown",
   "metadata": {},
   "source": [
    "You can use -1 to specify only one dimension:"
   ]
  },
  {
   "cell_type": "code",
   "execution_count": null,
   "metadata": {},
   "outputs": [],
   "source": [
    "np.arange(36).reshape(3, -1, -1)  # this is an ambiguous specification, and thus"
   ]
  },
  {
   "cell_type": "markdown",
   "metadata": {},
   "source": [
    "For all straightforward applications of reshape, NumPy does not actually create a new copy of an array’s data when performing a reshape operation. Instead, the original array and the reshaped array reference the same underlying data. The reshaped array simply provides a new index-interface for accessing said data, and is thus referred to as a “view” of the original array"
   ]
  },
  {
   "cell_type": "markdown",
   "metadata": {},
   "source": [
    "## 4. Matrix Operations ##"
   ]
  },
  {
   "cell_type": "markdown",
   "metadata": {},
   "source": [
    "**Addition of Two Matrics**: We use `+` operator to add corresponding elements of two NumPy matrices."
   ]
  },
  {
   "cell_type": "code",
   "execution_count": null,
   "metadata": {},
   "outputs": [],
   "source": [
    "D1 = np.array([[2, 4], [5, -6]])\n",
    "D2 = np.array([[9, -3], [3, 6]])\n",
    "D = D1 + D2      # element wise addition\n",
    "print(D)"
   ]
  },
  {
   "cell_type": "markdown",
   "metadata": {},
   "source": [
    "**Multiplication of Two Matrics** To multiply two matrices, we use `dot()` method. Learn more about how [numpy.dot](https://docs.scipy.org/doc/numpy-1.15.0/reference/generated/numpy.dot.html) works."
   ]
  },
  {
   "cell_type": "code",
   "execution_count": null,
   "metadata": {},
   "outputs": [],
   "source": [
    "E1 = np.array([[3, 6, 7], [5, -3, 0]])\n",
    "E2 = np.array([[1, 1], [2, 1], [3, -3]])\n",
    "E = E1.dot(E2)\n",
    "print(E)"
   ]
  },
  {
   "cell_type": "markdown",
   "metadata": {},
   "source": [
    "On the other hand, as of Python 3.5, NumPy supports infix matrix multiplication using the\n",
    "`@` operator, so you can achieve the same convenience of matrix multiplication with ndarrays in Python >= 3.5."
   ]
  },
  {
   "cell_type": "code",
   "execution_count": null,
   "metadata": {},
   "outputs": [],
   "source": [
    "print(E1 @ E2)"
   ]
  },
  {
   "cell_type": "markdown",
   "metadata": {},
   "source": [
    "In contrast, numpy arrays consistently abide by the rule that operations are applied element-wise (except for the new `@` operator). Thus, \n",
    "if $A$ and $B$ are numpy arrays whose dimensions are the same, then $A*B$ is the array formed \n",
    "by multiplying the components element-wise:"
   ]
  },
  {
   "cell_type": "code",
   "execution_count": null,
   "metadata": {},
   "outputs": [],
   "source": [
    "F1=np.array([[4, 3], [2, 1]])\n",
    "F2=np.array([[1, 2], [3, 4]])\n",
    "print(F1*F2)"
   ]
  },
  {
   "cell_type": "markdown",
   "metadata": {},
   "source": [
    "If $A$ is a matrix of type ndarray, then`A**2` returns an ndarray with each component squared element-wise. "
   ]
  },
  {
   "cell_type": "code",
   "execution_count": null,
   "metadata": {},
   "outputs": [],
   "source": [
    "print(F1**2)"
   ]
  },
  {
   "cell_type": "markdown",
   "metadata": {},
   "source": [
    "**Transpose of a Matrix** We use `numpy.transpose` to compute transpose of a matrix."
   ]
  },
  {
   "cell_type": "code",
   "execution_count": null,
   "metadata": {},
   "outputs": [],
   "source": [
    "G = np.array([[1, 1], [2, 1], [3, -3]])\n",
    "print(G.transpose())"
   ]
  },
  {
   "cell_type": "markdown",
   "metadata": {},
   "source": [
    "## 5. Access matrix elements, rows and columns ##"
   ]
  },
  {
   "cell_type": "markdown",
   "metadata": {},
   "source": [
    "**Access matrix elements** Similar like lists, we can access matrix elements using index. Let's start with a one-dimensional NumPy array."
   ]
  },
  {
   "cell_type": "code",
   "execution_count": null,
   "metadata": {},
   "outputs": [],
   "source": [
    "H = np.array([2, 4, 6, 8, 10])\n",
    "\n",
    "print(\"H[0] =\", H[0])     # First element     \n",
    "print(\"H[2] =\", H[2])     # Third element \n",
    "print(\"H[-1] =\", H[-1])   # Last element "
   ]
  },
  {
   "cell_type": "markdown",
   "metadata": {},
   "source": [
    "Notice that the index starts from $0$. Now, let's see how we can access elements of a two-dimensional array (which is basically a matrix)."
   ]
  },
  {
   "cell_type": "code",
   "execution_count": null,
   "metadata": {},
   "outputs": [],
   "source": [
    "M = np.array([[1, 4, 5, 12],\n",
    "    [-5, 8, 9, 0],\n",
    "    [-6, 7, 11, 19]])\n",
    "\n",
    "#  First element of first row\n",
    "print(\"M[0, 0] =\", M[0,0])  \n",
    "# Third element of second row\n",
    "print(\"M[1, 2] =\", M[1,2])\n",
    "\n",
    "# Last element of last row\n",
    "print(\"M[-1, -1] =\", M[-1,-1])     "
   ]
  },
  {
   "cell_type": "markdown",
   "metadata": {},
   "source": [
    "**Access rows of a Matrix** "
   ]
  },
  {
   "cell_type": "code",
   "execution_count": null,
   "metadata": {},
   "outputs": [],
   "source": [
    "print(\"M[0] =\", M[0]) # First Row\n",
    "print(\"M[2] =\", M[2]) # Third Row\n",
    "print(\"M[-1] =\", M[-1]) # Last Row (3rd row in this case)"
   ]
  },
  {
   "cell_type": "markdown",
   "metadata": {},
   "source": [
    "**Access columns of a Matrix**"
   ]
  },
  {
   "cell_type": "code",
   "execution_count": null,
   "metadata": {},
   "outputs": [],
   "source": [
    "print(\"M[:,0] =\",M[:,0]) # First Column\n",
    "print(\"M[:,3] =\", M[:,3]) # Fourth Column\n",
    "print(\"M[:,-1] =\", M[:,-1]) # Last Column (4th column in this case)"
   ]
  },
  {
   "cell_type": "markdown",
   "metadata": {},
   "source": [
    "**Slicing of a Matrix** Slicing of a one-dimensional NumPy array is similar to a list. If you don't know how slicing for a list works, visit [Understanding Python's slice notation](https://stackoverflow.com/questions/509211/understanding-slice-notation)."
   ]
  },
  {
   "cell_type": "code",
   "execution_count": null,
   "metadata": {},
   "outputs": [],
   "source": [
    "letters = np.array([1, 3, 5, 7, 9, 7, 5])\n",
    "\n",
    "# 3rd to 5th elements\n",
    "print(letters[2:5])        \n",
    "\n",
    "# 1st to 6th elements\n",
    "print(letters[:-1])           \n",
    "\n",
    "# 6th to last elements\n",
    "print(letters[5:])         \n",
    "\n",
    "# 1st to last elements\n",
    "print(letters[:])          \n",
    "\n",
    "# reversing a list\n",
    "print(letters[::-1])  "
   ]
  },
  {
   "cell_type": "markdown",
   "metadata": {},
   "source": [
    "Now, let's see how we can slice a matrix."
   ]
  },
  {
   "cell_type": "code",
   "execution_count": null,
   "metadata": {},
   "outputs": [],
   "source": [
    "print(M[:2, :4])  # two rows, four columns\n",
    "print(' ')\n",
    "\n",
    "print(M[0,:])  # first row, all columns\n",
    "print(' ')\n",
    "\n",
    "print(M[:,2])  # all rows, third column\n",
    "print(' ')\n",
    "\n",
    "print(M[:, 2:5])  # all rows, third to fifth column"
   ]
  },
  {
   "cell_type": "markdown",
   "metadata": {},
   "source": [
    "## 6. N-dimensional Arrays ##\n",
    "\n",
    "Let’s build up some intuition for arrays with a dimensionality higher than 2. The following code creates a 3-dimensional array:"
   ]
  },
  {
   "cell_type": "code",
   "execution_count": null,
   "metadata": {},
   "outputs": [],
   "source": [
    "# a 3D array, shape-(2, 2, 2)\n",
    "d3_array = np.array([[[0, 1],\n",
    "                      [2, 3]],\n",
    "                     [[4, 5],\n",
    "                      [6, 7]]])\n",
    "print(d3_array)"
   ]
  },
  {
   "cell_type": "markdown",
   "metadata": {},
   "source": [
    "**Depicting the layout of a 3D array**\n",
    "\n",
    "\n",
    "   ![](img/3d_array.png) \n",
    "   \n",
    "You can think of `axis-0` denoting which of the 2x2 “sheets” to select from. \n",
    "Then `axis-1` specifies the row along the sheets, and `axis-2` the column within the row."
   ]
  },
  {
   "cell_type": "markdown",
   "metadata": {},
   "source": [
    "Thus `d3_array[0,1,0]` specifies the element residing in sheet-0, at row-1 (second row) and column-0 (first column):"
   ]
  },
  {
   "cell_type": "code",
   "execution_count": null,
   "metadata": {},
   "outputs": [],
   "source": [
    "# Retrieving a single element from a 3D array\n",
    "ex1 = d3_array[0,1,0]\n",
    "ex1"
   ]
  },
  {
   "cell_type": "markdown",
   "metadata": {},
   "source": [
    "`d3_array[:, 0, 0]` specifies the elements in row-0 and column-0 of both sheets:"
   ]
  },
  {
   "cell_type": "code",
   "execution_count": null,
   "metadata": {},
   "outputs": [],
   "source": [
    "# retrieving a 1D sub-array from a 3D-array\n",
    "ex2 = d3_array[:,0,0]\n",
    "ex2"
   ]
  },
  {
   "cell_type": "markdown",
   "metadata": {},
   "source": [
    "`d3_array[1]`, which recall is shorthand for `d3_array[1, :, :]`, selects both rows and both columns of sheet-1:"
   ]
  },
  {
   "cell_type": "code",
   "execution_count": null,
   "metadata": {},
   "outputs": [],
   "source": [
    "# retrieving a 2D sub-array from a 3D-array\n",
    "ex3 = d3_array[1]\n",
    "print(ex3)"
   ]
  },
  {
   "cell_type": "markdown",
   "metadata": {},
   "source": [
    "In four dimensions, one can think of “stacks of sheets with rows and columns” where axis-0 selects the stack of sheets you are working with, axis-1 chooses the sheet, axis-2 chooses the row, and axis-3 chooses the column. Extrapolating to higher dimensions (“collections of stacks of sheets …”) continues in the same tedious fashion."
   ]
  },
  {
   "cell_type": "markdown",
   "metadata": {},
   "source": [
    "## <center>   Exercises </ceenter> ##"
   ]
  },
  {
   "cell_type": "markdown",
   "metadata": {},
   "source": [
    "1. Create a null vector of size 10 but the fifth value which is 1.\n",
    "2. Create a 2D array with 1 on the border and 0 inside.\n",
    "3. Consider a (6,7,8) shape array, what is the index (x,y,z) of the 100th elements?\n",
    "4. Given the 3D, shape-(3,3,3) array:\n",
    "\n",
    "   ![](img/nparray-pr1.png)\n",
    "   \n",
    "   Write a code of indexing into the array to produce the following results.   \n",
    "     \n",
    "    ![](img/nparray-pr1c.png) \n",
    "   "
   ]
  },
  {
   "cell_type": "markdown",
   "metadata": {},
   "source": [
    "## NumPy Resources ##\n",
    "\n",
    "As you can see, using NumPy (instead of nested lists) makes it a lot easier to work with matrices, and we haven't even scratched the basics. We suggest you to explore NumPy package in detail especially if you trying to use Python for data science/analytics.\n",
    "\n",
    " * [Quickstart tutorial](https://docs.scipy.org/doc/numpy-1.15.1/user/quickstart.html)\n",
    " * [Numpy Array Basic A](https://www.bogotobogo.com/python/python_numpy_array_tutorial_basic_A.php)\n",
    "  and [Numpy Array Basic B](https://www.bogotobogo.com/python/python_numpy_array_tutorial_basic_B.php)\n",
    " * [Numpy tutorial](http://www.labri.fr/perso/nrougier/teaching/numpy/numpy.html)\n",
    " * [NumPy Reference](https://docs.scipy.org/doc/numpy-1.14.5/reference/)"
   ]
  },
  {
   "cell_type": "code",
   "execution_count": null,
   "metadata": {},
   "outputs": [],
   "source": []
  }
 ],
 "metadata": {
  "kernelspec": {
   "display_name": "Python 3",
   "language": "python",
   "name": "python3"
  },
  "language_info": {
   "codemirror_mode": {
    "name": "ipython",
    "version": 3
   },
   "file_extension": ".py",
   "mimetype": "text/x-python",
   "name": "python",
   "nbconvert_exporter": "python",
   "pygments_lexer": "ipython3",
   "version": "3.7.6"
  },
  "toc": {
   "base_numbering": 1,
   "nav_menu": {},
   "number_sections": true,
   "sideBar": true,
   "skip_h1_title": false,
   "title_cell": "Table of Contents",
   "title_sidebar": "Contents",
   "toc_cell": false,
   "toc_position": {},
   "toc_section_display": true,
   "toc_window_display": false
  }
 },
 "nbformat": 4,
 "nbformat_minor": 2
}
