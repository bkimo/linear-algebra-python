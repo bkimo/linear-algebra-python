{
 "cells": [
  {
   "cell_type": "markdown",
   "id": "eaa0d4c8",
   "metadata": {},
   "source": [
    "## Discrete Dynamical Systems: First-Order Difference Equations"
   ]
  },
  {
   "cell_type": "markdown",
   "id": "cdac2f7f",
   "metadata": {},
   "source": [
    "This lecture note will illustrate one common kind of application of eigenvalues: to the study of the long-term behavior (or steady-state response) of a dynamical system described by a **difference equation**.\n",
    "We will introduce stochastic matrics, which encode this type of difference equation.  "
   ]
  },
  {
   "cell_type": "markdown",
   "id": "4106f3b3",
   "metadata": {},
   "source": [
    "### Difference Equations\n",
    "\n",
    "**Definition 18.1.** A *difference equation* is an an equation of the form\n",
    "$$ \\vec{v}_{k+1} = A\\vec{v}_k \\hspace{2in} $$\n",
    "for an $n\\times n$ matrix $A$ (called a transition matrix) and vectors $\\vec{v}_0, \\vec{v}_1,, \\vec{v}_2, ...$ in $\\mathbb{R}^n$. Here\n",
    "  * $\\vec{v}_k$ is the \"state at time $k$,\" and\n",
    "  * $\\vec{v}_{k+1}$ is the \"state at time $k+1$.\" \n",
    "\n",
    "Observe that\n",
    "$$ \\vec{v}_k = A\\vec{v}_{k-1} = A^2\\vec{v}_{k-2} = \\cdots = A^k\\vec{v}_0.$$\n",
    "This should hint to you that the long-term behavior of a difference equation (when $k\\rightarrow\\infty$) is an eigenvalue problem."
   ]
  },
  {
   "cell_type": "markdown",
   "id": "7ed13fed",
   "metadata": {},
   "source": [
    "**Example 18.2.**  In a population of rabbits,\n",
    "   1. half of the newborn rabbits survive their first year;\n",
    "   2. of those, half survive their second year;\n",
    "   3. the maximum life span is three years;\n",
    "   4. rabbits produce 0, 6, 8 rabbits in their first, second, and third years, respectively.\n",
    "\n",
    "Let $\\vec{p}_k=(x_k, y_k, z_k)$ be the population vector whose entries $x_k, y_k, z_k$ are the number of rabbits aged 0, 1, and 2, respectively.  \n",
    "A population vector $\\vec{p}$ contains the abundance of rabbits in each age group. We can use the fertility and survival of each age group to predict the abundance of each group after one year:\n",
    "\n",
    "$$\\begin{align*}\n",
    "  x_{k+1} &=& 0\\,x_k + 6\\,y_k + 8\\,z_k \\\\\n",
    "  y_{k+1} &=& 0.5\\,x_k + 0\\,y_k + 0\\,z_k \\\\\n",
    "  z_{k+1} &=& 0\\,x_k + 0.5\\,y_k + 0\\,z_k\n",
    "\\end{align*}\n",
    "$$\n",
    "\n",
    "The superscript $k$ refers to the year. The coefficient matrix of this system of equations is:\n",
    "\n",
    "$$ A = \\begin{bmatrix} 0 & 6 & 8 \\\\\n",
    "                       0.5 & 0 & 0 \\\\\n",
    "                       0 & 0.5 & 0 \\end{bmatrix}\n",
    "$$\n",
    "\n",
    "This matrix represents the _age transition_ year on year. Multiply this matrix by the population vector to get the age-structured population on the next year. Let's write a bit of code to see the population in each age group grow over 10 years. "
   ]
  },
  {
   "cell_type": "code",
   "execution_count": 1,
   "id": "37c56787",
   "metadata": {
    "tags": []
   },
   "outputs": [],
   "source": [
    "import numpy as np\n",
    "import matplotlib.pyplot as plt"
   ]
  },
  {
   "cell_type": "code",
   "execution_count": 4,
   "id": "09dbdcaf",
   "metadata": {},
   "outputs": [
    {
     "data": {
      "text/plain": [
       "array([[0. , 6. , 8. ],\n",
       "       [0.5, 0. , 0. ],\n",
       "       [0. , 0.5, 0. ]])"
      ]
     },
     "execution_count": 4,
     "metadata": {},
     "output_type": "execute_result"
    }
   ],
   "source": [
    "A = np.array([[0,6,8], [0.5,0,0], [0,0.5,0]])\n",
    "A"
   ]
  },
  {
   "cell_type": "code",
   "execution_count": 5,
   "id": "5c75ca5e",
   "metadata": {},
   "outputs": [],
   "source": [
    "p = np.array([25, 10, 5]) # initial age-structured population"
   ]
  },
  {
   "cell_type": "code",
   "execution_count": 6,
   "id": "68785f5e",
   "metadata": {},
   "outputs": [
    {
     "name": "stdout",
     "output_type": "stream",
     "text": [
      "[100.   12.5   5. ]\n",
      "[115.    50.     6.25]\n",
      "[350.   57.5  25. ]\n",
      "[545.   175.    28.75]\n",
      "[1280.   272.5   87.5]\n",
      "[2335.    640.    136.25]\n",
      "[4930.  1167.5  320. ]\n",
      "[9565.   2465.    583.75]\n",
      "[19460.   4782.5  1232.5]\n"
     ]
    }
   ],
   "source": [
    "N = 10\n",
    "pn = np.zeros((N, len(p)))\n",
    "pn[0,:] = p.copy()\n",
    "for i in range(1,N):\n",
    "    pn[i,:] = A.dot(pn[i-1,:])\n",
    "    print(pn[i,:])"
   ]
  },
  {
   "cell_type": "code",
   "execution_count": 7,
   "id": "fd848008",
   "metadata": {},
   "outputs": [
    {
     "data": {
      "image/png": "[encoded data removed]",
      "text/plain": [
       "<Figure size 864x288 with 1 Axes>"
      ]
     },
     "metadata": {
      "needs_background": "light"
     },
     "output_type": "display_data"
    }
   ],
   "source": [
    "plt.figure(figsize=(12,4))\n",
    "plt.plot(pn[:,0], label='x')\n",
    "plt.plot(pn[:,1], label='y')\n",
    "plt.plot(pn[:,2], label='z')\n",
    "plt.legend()\n",
    "#plt.grid()\n",
    "plt.xlabel('Years')\n",
    "plt.title('Population in each age group');"
   ]
  },
  {
   "cell_type": "markdown",
   "id": "d74e5e7e",
   "metadata": {},
   "source": [
    "Nothing to see here: the population in each age group grows over time. But one question ecologists may need to answer is whether the species reaches a stable growth pattern, and what is the _stable age distribution_. That occurs if the percentage in each age group remains the same, i.e., \n",
    "$\\vec{p}_{k+1}$ is a multiple of $\\vec{p}_k$:\n",
    "\n",
    "$$ \\vec{p}_{k+1} = A\\, \\vec{p}_k = r\\, \\vec{p}_k $$\n",
    "\n",
    "We have on the right an eigenvalue problem, and the stable age distribution is an eigenvector of the age transition matrix.\n",
    "\n",
    "**Example 18.3.** A classic example in this field is the hypothetical beetle population of Bernadelli (Bernardelli, H. (1941), Population waves, Journal of the Burma Research Society 31, Part 1. Also in _Mathematical Demography, Selected Papers_ (1977), pp. 215-219. Springer, Berlin, Heidelberg. https://doi.org/10.1007/978-3-642-81046-6_24), also separated in three age groups, and with age transition matrix:\n",
    "\n",
    "$$ T = \\begin{bmatrix} 0 & 0 & 6 \\\\\n",
    "                       1/2 & 0 & 0 \\\\\n",
    "                       0 & 1/3 & 0 \\end{bmatrix}\n",
    "$$"
   ]
  },
  {
   "cell_type": "code",
   "execution_count": 8,
   "id": "0b4a57c7",
   "metadata": {},
   "outputs": [],
   "source": [
    "T = np.array([[0,0,6], [0.5,0,0], [0,1/3,0]])"
   ]
  },
  {
   "cell_type": "code",
   "execution_count": 9,
   "id": "c811defd",
   "metadata": {},
   "outputs": [
    {
     "data": {
      "image/png": "[encoded data removed]",
      "text/plain": [
       "<Figure size 864x288 with 1 Axes>"
      ]
     },
     "metadata": {
      "needs_background": "light"
     },
     "output_type": "display_data"
    }
   ],
   "source": [
    "p = np.array([25, 10, 5])\n",
    "N = 24\n",
    "pn = np.zeros((N, len(p)))\n",
    "pn[0,:] = p.copy()\n",
    "for i in range(1,N):\n",
    "    pn[i,:] = T.dot(pn[i-1,:])\n",
    "    \n",
    "plt.figure(figsize=(12,4))\n",
    "plt.plot(pn[:,0], label='x')\n",
    "plt.plot(pn[:,1], label='y')\n",
    "plt.plot(pn[:,2], label='z')\n",
    "plt.legend()\n",
    "#plt.grid()\n",
    "plt.xlabel('Years')\n",
    "plt.title('Population in each age group');"
   ]
  },
  {
   "cell_type": "code",
   "execution_count": 10,
   "id": "074967f8",
   "metadata": {},
   "outputs": [
    {
     "name": "stdout",
     "output_type": "stream",
     "text": [
      "[25. 10.  5.]\n"
     ]
    }
   ],
   "source": [
    "print(pn[6,:])"
   ]
  },
  {
   "cell_type": "markdown",
   "id": "5a603c9d",
   "metadata": {},
   "source": [
    "In this case, the initial population distribution repeats every few years! If we look at the eigenvalues for the matrix, in this case, they are complex numbers.\n",
    "In Python, complex numbers are represented as the sum of a real part and an imaginary part, using the symbol `j` for the imaginary unit corresponding to $\\sqrt{-1}$."
   ]
  },
  {
   "cell_type": "code",
   "execution_count": 11,
   "id": "067e65cc",
   "metadata": {},
   "outputs": [
    {
     "data": {
      "text/plain": [
       "array([-0.5+0.8660254j, -0.5-0.8660254j,  1. +0.j       ])"
      ]
     },
     "execution_count": 11,
     "metadata": {},
     "output_type": "execute_result"
    }
   ],
   "source": [
    "np.linalg.eig(T)[0]"
   ]
  },
  {
   "cell_type": "markdown",
   "id": "bd530055",
   "metadata": {},
   "source": [
    "#### Compute eigenthings in Python  \n",
    "\n",
    "You can compute the eigenvalues and eigenvectors of a matrix using [`numpy.linalg.eig()`](https://docs.scipy.org/doc/numpy/reference/generated/numpy.linalg.eig.html). It returns a tuple: its first element is an array with the eigenvalues, and its second element is a 2D array  where each column is an eigenvector."
   ]
  },
  {
   "cell_type": "code",
   "execution_count": 12,
   "id": "518f242a",
   "metadata": {},
   "outputs": [
    {
     "data": {
      "text/plain": [
       "array([ 2.        , -0.99999998, -1.00000002])"
      ]
     },
     "execution_count": 12,
     "metadata": {},
     "output_type": "execute_result"
    }
   ],
   "source": [
    "np.linalg.eig(A)[0]"
   ]
  },
  {
   "cell_type": "code",
   "execution_count": 13,
   "id": "9f2b53ba",
   "metadata": {},
   "outputs": [
    {
     "data": {
      "text/plain": [
       "array([[-0.96836405,  0.87287156, -0.87287157],\n",
       "       [-0.24209101, -0.43643579,  0.43643577],\n",
       "       [-0.06052275,  0.2182179 , -0.21821788]])"
      ]
     },
     "execution_count": 13,
     "metadata": {},
     "output_type": "execute_result"
    }
   ],
   "source": [
    "np.linalg.eig(A)[1]"
   ]
  },
  {
   "cell_type": "code",
   "execution_count": 14,
   "id": "185d743e",
   "metadata": {},
   "outputs": [
    {
     "name": "stdout",
     "output_type": "stream",
     "text": [
      "2.0000000000000013 [-0.96836405 -0.24209101 -0.06052275]\n",
      "-0.9999999789753345 [ 0.87287156 -0.43643579  0.2182179 ]\n",
      "-1.0000000210246673 [-0.87287157  0.43643577 -0.21821788]\n"
     ]
    }
   ],
   "source": [
    "# display each eigenvalue with the corresponding eigenvector, side by side\n",
    "eigenvalues, eigenvectors = np.linalg.eig(A)\n",
    "\n",
    "for eigenvalue, eigenvector in zip(eigenvalues, eigenvectors.T):\n",
    "    print(eigenvalue, eigenvector)"
   ]
  },
  {
   "cell_type": "markdown",
   "id": "9a500b8c",
   "metadata": {},
   "source": [
    "In the `for` statement above, each iteration picks an eigenvalue, and the corresponding eigenvector. Note that when iterating over a 2D array, the natural order advances over the first dimension: the rows; to get the columns, we apply the transpose of the `eigenvectors` matrix. Here, we used the [`numpy.ndarray.T`](https://docs.scipy.org/doc/numpy/reference/generated/numpy.ndarray.T.html), which has the same effect as `.transpose`.\n",
    "\n",
    "**Remark.** To create the diagonal matrix of eigenvalues, use [`numpy.diag()`](https://docs.scipy.org/doc/numpy/reference/generated/numpy.diag.html): if you give it a 1D array, it returns a 2D array with the elements of the input array in the diagonal. "
   ]
  },
  {
   "cell_type": "code",
   "execution_count": 15,
   "id": "eb536693",
   "metadata": {},
   "outputs": [
    {
     "name": "stdout",
     "output_type": "stream",
     "text": [
      "[[1 0 0]\n",
      " [0 2 0]\n",
      " [0 0 3]]\n"
     ]
    }
   ],
   "source": [
    "L =np.array([1, 2, 3])\n",
    "print(np.diag(L))"
   ]
  },
  {
   "cell_type": "markdown",
   "id": "896ff998",
   "metadata": {},
   "source": [
    "**Activity 18.4.** In a certain town, 30 percent of the married women get divorced each year and 20 percent of the single women get married each year. There are 8000 married women and 2000 single women, \n",
    "and the total population remains constant. Let us investigate the long-range prospects if\n",
    "these percentages of marriages and divorces continue indefinitely into the future.\n",
    "\n",
    "  * (a) Set up a difference equation for this problem.\n",
    "  * (b) Find the number of married and single women after 5, 10, 15, 20, and 30 years. What do you observe?"
   ]
  },
  {
   "cell_type": "markdown",
   "id": "43a378c4",
   "metadata": {},
   "source": [
    "**Solution**\n",
    "\n",
    "Let $m$ represent the number of married women and $s$ the number of single women. The corresponding mathematical model is\n",
    "$$\\begin{align*}\n",
    "  m_{k+1} &=& 0.7\\,m_k + 0.2\\,s_k\\\\\n",
    "  s_{k+1} &=& 0.3\\,m_k + 0.8\\,s_k\n",
    "\\end{align*}\n",
    "$$\n",
    "\n",
    "Let $\\vec{p}_k = (m_k, s_k)$ be the population vector. Then the difference equation has the form\n",
    "$$\n",
    " \\vec{p}_{k+1} = M\\vec{p}_k, \n",
    "$$\n",
    "where \n",
    "$$ M = \\begin{bmatrix} 0.7 & 0.2 \\\\\n",
    "                       0.3 & 0.8 \n",
    "       \\end{bmatrix}\n",
    "$$."
   ]
  },
  {
   "cell_type": "code",
   "execution_count": 16,
   "id": "f467ba48",
   "metadata": {},
   "outputs": [
    {
     "data": {
      "image/png": "[encoded data removed]",
      "text/plain": [
       "<Figure size 864x288 with 1 Axes>"
      ]
     },
     "metadata": {
      "needs_background": "light"
     },
     "output_type": "display_data"
    }
   ],
   "source": [
    "M = np.array([[0.7,0.2], [0.3,0.8]])\n",
    "\n",
    "p = np.array([8000, 2000])\n",
    "N = 30\n",
    "pn = np.zeros((N, len(p)))\n",
    "pn[0,:] = p.copy()\n",
    "\n",
    "for i in range(1,N):\n",
    "    pn[i,:] = M.dot(pn[i-1,:])\n",
    "    \n",
    "plt.figure(figsize=(12,4))\n",
    "plt.plot(pn[:,0], label='m')\n",
    "plt.plot(pn[:,1], label='s')\n",
    "plt.legend()\n",
    "#plt.grid()\n",
    "plt.xlabel('Years')\n",
    "plt.title('Population in each age group');"
   ]
  },
  {
   "cell_type": "code",
   "execution_count": 17,
   "id": "0f528f9a",
   "metadata": {},
   "outputs": [
    {
     "name": "stdout",
     "output_type": "stream",
     "text": [
      "k =   0    8000    2000\n",
      "k =   1    6000    4000\n",
      "k =   2    5000    5000\n",
      "k =   3    4500    5500\n",
      "k =   4    4250    5750\n",
      "k =   5    4125    5875\n",
      "k =   6    4062    5937\n",
      "k =   7    4031    5968\n",
      "k =   8    4015    5984\n",
      "k =   9    4007    5992\n",
      "k =  10    4003    5996\n",
      "k =  11    4001    5998\n",
      "k =  12    4000    5999\n",
      "k =  13    4000    5999\n",
      "k =  14    4000    5999\n",
      "k =  15    4000    5999\n",
      "k =  16    4000    5999\n",
      "k =  17    4000    5999\n",
      "k =  18    4000    5999\n",
      "k =  19    4000    5999\n",
      "k =  20    4000    5999\n",
      "k =  21    4000    5999\n",
      "k =  22    4000    5999\n",
      "k =  23    4000    5999\n",
      "k =  24    4000    5999\n",
      "k =  25    4000    5999\n",
      "k =  26    4000    5999\n",
      "k =  27    4000    5999\n",
      "k =  28    4000    5999\n",
      "k =  29    4000    5999\n"
     ]
    }
   ],
   "source": [
    "for i in range(0,N):\n",
    "    print('k = %3d  %6d  %6d'  % (i, pn[i,0], pn[i,1]) )"
   ]
  },
  {
   "cell_type": "markdown",
   "id": "15e81359",
   "metadata": {},
   "source": [
    "### Markov Chains"
   ]
  },
  {
   "cell_type": "markdown",
   "id": "1d0d725c",
   "metadata": {},
   "source": [
    "In Activity 18.4, we studied a simple matrix model for predicting the number of married\n",
    "and single women in a certain town each year. Given an initial vector $\\vec{p}_0$ whose coordinates represent \n",
    "the current number of married and single women, we were able to\n",
    "predict the number of married and single women in future years by computing\n",
    "$$ \n",
    " \\vec{p}_1 = M\\vec{p}_0,\\ \\ \\ \\vec{p}_2 = M\\vec{p}_1,\\ \\ \\ \\vec{p}_3 = M\\vec{p}_2,\\ \\  ...\n",
    "$$\n",
    "\n",
    "If we scale the initial vector so that its entries indicate the **proportions of the population**\n",
    "that are married and single, then the coordinates of $\\vec{p}_k$ will indicate the proportions of\n",
    "married and single women after n years. The sequence of vectors that we generate in\n",
    "this manner is an example of a **Markov chain**. \n",
    "\n",
    "**Definition 18.5** A *stochastic process* is any sequence of experiments for which the outcome at\n",
    "any stage depends on chance. A Markov process is a stochastic process with the\n",
    "following properties:\n",
    "  1. The set of possible outcomes or states is finite.\n",
    "  2. The probability of the next outcome depends only on the previous outcome.\n",
    "  3. The probabilities are constant over time.\n",
    "  \n",
    "**Remark** The sum of entries of $\\vec{p}_k$ should be equal to $1$,\n",
    "since it’s a probability distribution."
   ]
  },
  {
   "cell_type": "markdown",
   "id": "64b31ee1",
   "metadata": {},
   "source": [
    "**Example 18.6.** A car dealer leases four types of vehicles: *four-door sedans*, *sports cars*, \n",
    "*minivans*, and *SUV*. The term of the lease is 2\n",
    "years. At the end of the term, customers must renegotiate the lease and choose a new\n",
    "vehicle.\n",
    "\n",
    "The car leasing can be viewed as a process with four possible outcomes.\n",
    "The probability of each outcome can be estimated by reviewing records of previous\n",
    "leases. The records indicate that 80 percent of the customers currently leasing sedans\n",
    "will continue doing so in the next lease. Furthermore, 10 percent of the customers currently \n",
    "leasing sports cars will switch to sedans. In addition, 5 percent of the customers\n",
    "driving minivans or sport utility vehicles will also switch to sedans. These results are\n",
    "summarized in the first row of Table 1. The second row indicates the percentages of\n",
    "customers that will lease sports cars the next time, and the final two rows give the\n",
    "percentages that will lease minivans and SUV, respectively.\n",
    "\n",
    "<center>\n",
    "   <img src=\"lecture18-fig3.png\" style=\"width: 400px;\"/> \n",
    "</center>\n",
    "    \n",
    "Suppose that initially there are 200 sedans leased and 100 of each of the other three\n",
    "types of vehicles. If we set\n",
    "$$ \n",
    "  A = \\begin{bmatrix} \n",
    "        0.80 & 0.10 & 0.05 & 0.05 \\\\ \n",
    "        0.10 & 0.80 & 0.05 & 0.05 \\\\\n",
    "        0.05 & 0.05 & 0.80 & 0.10 \\\\\n",
    "        0.05 & 0.05 & 0.10 & 0.80\n",
    "       \\end{bmatrix}\n",
    "       \\ \\ \\ \\ \\ \\ \\ \\ \\ \\ \n",
    "   \\vec{x}_0 = \n",
    "    \\begin{bmatrix}\n",
    "       200\\\\ 100 \\\\ 100 \\\\ 100\n",
    "    \\end{bmatrix}\n",
    "$$\n",
    "then we can determine how many people will lease each type of vehicle two years later\n",
    "by setting\n",
    "$$\n",
    " \\vec{x}_1 = A\\vec{x}_0 = \\begin{bmatrix} \n",
    "        0.80 & 0.10 & 0.05 & 0.05 \\\\ \n",
    "        0.10 & 0.80 & 0.05 & 0.05 \\\\\n",
    "        0.05 & 0.05 & 0.80 & 0.10 \\\\\n",
    "        0.05 & 0.05 & 0.10 & 0.80\n",
    "       \\end{bmatrix}\n",
    "    \\begin{bmatrix}\n",
    "       200\\\\ 100 \\\\ 100 \\\\ 100\n",
    "    \\end{bmatrix}\n",
    "     =\n",
    "     \\begin{bmatrix}\n",
    "       180\\\\ 110\\\\ 105\\\\ 105\n",
    "     \\end{bmatrix}\n",
    "$$\n",
    "\n",
    "We can predict the numbers for future leases by setting\n",
    "$$\n",
    " \\vec{x}_{k+1} = A\\vec{x}_k \\ \\ \\mbox{for}\\ n = 1, 2, ...\n",
    "$$\n",
    "The vectors $\\vec{x}_i$ produced in this manner are referred to as **state vectors**, and \n",
    "the sequence\n",
    "of state vectors is called a **Markov chain**. The matrix $A$ is referred to as a *transition\n",
    "matrix*. The entries of each column of $A$ are nonnegative numbers that add up to 1.\n",
    "Each column can be viewed as a probability vector. For example, the first column of\n",
    "$A$ corresponds to individuals currently leasing sedans. The entries in this column are\n",
    "the probabilities of choosing each type of vehicle when the lease is renewed.\n",
    "\n"
   ]
  },
  {
   "cell_type": "markdown",
   "id": "24519a12",
   "metadata": {},
   "source": [
    "If we divide the entries of the initial vector by 500 (the total number of customers),\n",
    "then the entries of the new initial state vector\n",
    "$$\n",
    " \\vec{x}_0 = (0.40, 0.20, 0.20, 0.20)^T\n",
    "$$\n",
    "represent the proportions of the population that rent each type of vehicle. The entries\n",
    "of $\\vec{x}_1$  will represent the proportions for the next lease. Thus, $\\vec{x}_0$ and $\\vec{x}_1$ are probability\n",
    "vectors, and it is easily seen that the succeeding state vectors in the chain will all be\n",
    "probability vectors."
   ]
  },
  {
   "cell_type": "code",
   "execution_count": 4,
   "id": "d4a9198a",
   "metadata": {},
   "outputs": [
    {
     "name": "stdout",
     "output_type": "stream",
     "text": [
      "k =   1  0.36  0.22  0.21 0.21\n",
      "k =   2  0.33  0.23  0.22 0.22\n",
      "k =   3  0.31  0.24  0.22 0.22\n",
      "k =   4  0.29  0.25  0.23 0.23\n",
      "k =   5  0.28  0.25  0.23 0.23\n",
      "k =   6  0.27  0.25  0.24 0.24\n",
      "k =   7  0.27  0.25  0.24 0.24\n",
      "k =   8  0.26  0.25  0.24 0.24\n",
      "k =   9  0.26  0.25  0.24 0.24\n",
      "k =  10  0.26  0.25  0.24 0.24\n",
      "k =  11  0.26  0.25  0.25 0.25\n",
      "k =  12  0.25  0.25  0.25 0.25\n",
      "k =  13  0.25  0.25  0.25 0.25\n",
      "k =  14  0.25  0.25  0.25 0.25\n",
      "k =  15  0.25  0.25  0.25 0.25\n",
      "k =  16  0.25  0.25  0.25 0.25\n",
      "k =  17  0.25  0.25  0.25 0.25\n",
      "k =  18  0.25  0.25  0.25 0.25\n",
      "k =  19  0.25  0.25  0.25 0.25\n"
     ]
    },
    {
     "data": {
      "image/png": "[encoded data removed]",
      "text/plain": [
       "<Figure size 864x288 with 1 Axes>"
      ]
     },
     "metadata": {
      "needs_background": "light"
     },
     "output_type": "display_data"
    }
   ],
   "source": [
    "B = np.array([[0.80, 0.10, 0.05, 0.05], [00.10, 0.80, 0.05, 0.05],\n",
    "              [0.05, 0.05, 0.80, 0.10], [0.05, 0.05, 0.10, 0.80]])\n",
    "\n",
    "p = np.array([0.4, 0.2, 0.2, 0.2])\n",
    "N = 20\n",
    "pn = np.zeros((N, len(p)))\n",
    "pn[0,:] = p.copy()\n",
    "\n",
    "for i in range(1,N):\n",
    "    pn[i,:] = B.dot(pn[i-1,:])\n",
    "    print('k = %3d  %3.2f  %3.2f  %3.2f %3.2f'  % (i, pn[i,0], pn[i,1], pn[i,2], pn[i,3]) )\n",
    "    \n",
    "plt.figure(figsize=(12,4))\n",
    "plt.plot(pn[:,0], label='Sedan')\n",
    "plt.plot(pn[:,1], label='Sports Car')\n",
    "plt.plot(pn[:,2], label='Minivans')\n",
    "plt.plot(pn[:,3], label='SUV')\n",
    "plt.legend()\n",
    "#plt.grid()\n",
    "plt.xlabel('Leasing Period')\n",
    "plt.title('Leasing Proportions');"
   ]
  },
  {
   "cell_type": "markdown",
   "id": "a52e042a",
   "metadata": {},
   "source": [
    "As $k$ increases, $\\vec{x}_k$ approaches the **steady-state** vector\n",
    "$$\n",
    " \\vec{x}_{ST} = (0.25, 0.25, 0.25, 0.25)^T\n",
    "$$\n",
    "Thus, the Markov chain model predicts that, in the long run, the leases will be divided\n",
    "equally among the four types of vehicles."
   ]
  },
  {
   "cell_type": "markdown",
   "id": "986272ae",
   "metadata": {},
   "source": [
    "Theoretically, the long-term behavior of the stochastic process can be determined by the eigenvalues and eigenvectors of the transition matrix $A$."
   ]
  },
  {
   "cell_type": "code",
   "execution_count": 5,
   "id": "7e035b82",
   "metadata": {},
   "outputs": [
    {
     "name": "stdout",
     "output_type": "stream",
     "text": [
      "0.9999999999999997 [-0.5 -0.5 -0.5 -0.5]\n",
      "0.7 [-7.07106781e-01  7.07106781e-01 -7.44188381e-16 -8.13575913e-16]\n",
      "0.7999999999999996 [ 0.5  0.5 -0.5 -0.5]\n",
      "0.7 [-0.26314552  0.26314552 -0.65631885  0.65631885]\n"
     ]
    }
   ],
   "source": [
    "eigenvalues, eigenvectors = np.linalg.eig(B)\n",
    "\n",
    "for eigenvalue, eigenvector in zip(eigenvalues, eigenvectors.T):\n",
    "    print(eigenvalue, eigenvector)"
   ]
  },
  {
   "cell_type": "markdown",
   "id": "66d600ed",
   "metadata": {},
   "source": [
    "The eigenvalues of $A$ are $\\lambda_1 = 1, \\lambda_2 = 0.8$, and $\\lambda_3 = \\lambda_4 = 0.7$. \n",
    "Even though $A$ has multiple eigenvalues, it does have *four linearly\n",
    "independent eigenvectors* and hence it can be diagonalized, $A = PDP^{-1}$. "
   ]
  },
  {
   "cell_type": "code",
   "execution_count": 6,
   "id": "e757a265",
   "metadata": {},
   "outputs": [
    {
     "name": "stdout",
     "output_type": "stream",
     "text": [
      "[[1.  0.  0.  0. ]\n",
      " [0.  0.7 0.  0. ]\n",
      " [0.  0.  0.8 0. ]\n",
      " [0.  0.  0.  0.7]]\n"
     ]
    }
   ],
   "source": [
    "D = np.diag(eigenvalues)\n",
    "print(D)"
   ]
  },
  {
   "cell_type": "code",
   "execution_count": 7,
   "id": "bf2fd835",
   "metadata": {},
   "outputs": [
    {
     "name": "stdout",
     "output_type": "stream",
     "text": [
      "[[-5.00000000e-01 -7.07106781e-01  5.00000000e-01 -2.63145518e-01]\n",
      " [-5.00000000e-01  7.07106781e-01  5.00000000e-01  2.63145518e-01]\n",
      " [-5.00000000e-01 -7.44188381e-16 -5.00000000e-01 -6.56318853e-01]\n",
      " [-5.00000000e-01 -8.13575913e-16 -5.00000000e-01  6.56318853e-01]]\n"
     ]
    }
   ],
   "source": [
    "P = np.array(eigenvectors)\n",
    "print(P)"
   ]
  },
  {
   "cell_type": "code",
   "execution_count": 8,
   "id": "a0fa388b",
   "metadata": {},
   "outputs": [
    {
     "name": "stdout",
     "output_type": "stream",
     "text": [
      "[[-5.00000000e-01 -5.00000000e-01 -5.00000000e-01 -5.00000000e-01]\n",
      " [-7.07106781e-01  7.07106781e-01  2.83508510e-01 -2.83508510e-01]\n",
      " [ 5.00000000e-01  5.00000000e-01 -5.00000000e-01 -5.00000000e-01]\n",
      " [ 4.22897735e-17  4.22897735e-17 -7.61824832e-01  7.61824832e-01]]\n"
     ]
    }
   ],
   "source": [
    "Pinv = np.linalg.inv(P) #The inverse of P\n",
    "print(Pinv)"
   ]
  },
  {
   "cell_type": "markdown",
   "id": "e193880e",
   "metadata": {},
   "source": [
    "Python 3.5 onwards also has an explicit operator for dot product, `@`"
   ]
  },
  {
   "cell_type": "code",
   "execution_count": 9,
   "id": "d2f46773",
   "metadata": {},
   "outputs": [
    {
     "name": "stdout",
     "output_type": "stream",
     "text": [
      "[[0.8  0.1  0.05 0.05]\n",
      " [0.1  0.8  0.05 0.05]\n",
      " [0.05 0.05 0.8  0.1 ]\n",
      " [0.05 0.05 0.1  0.8 ]]\n"
     ]
    }
   ],
   "source": [
    "L = P@D@Pinv\n",
    "print(L)"
   ]
  },
  {
   "cell_type": "markdown",
   "id": "052998ba",
   "metadata": {},
   "source": [
    "Indeed, we see that $L = A$. "
   ]
  },
  {
   "cell_type": "markdown",
   "id": "f1f331d6",
   "metadata": {},
   "source": [
    "**Matrix Powers.** Let's compute $A^{20}$ in two different way; one is directly with $A$ itself, the other uses its diagonalization \n",
    "$A^{20} = PD^{20}P^{-1}$. "
   ]
  },
  {
   "cell_type": "code",
   "execution_count": 10,
   "id": "6cf8719d",
   "metadata": {},
   "outputs": [],
   "source": [
    "k = 20"
   ]
  },
  {
   "cell_type": "code",
   "execution_count": 11,
   "id": "39357d23",
   "metadata": {},
   "outputs": [
    {
     "name": "stdout",
     "output_type": "stream",
     "text": [
      "33.5 µs ± 3.2 µs per loop (mean ± std. dev. of 7 runs, 10000 loops each)\n"
     ]
    }
   ],
   "source": [
    "%%timeit  # Time execution of a Python statement or expression in the cell. This magic command should come in the first line.\n",
    "result = B.copy()\n",
    "for _ in range(1,k):\n",
    "    result = result @ B"
   ]
  },
  {
   "cell_type": "markdown",
   "id": "74e96c02",
   "metadata": {},
   "source": [
    "Let's use diagonalization to do the same computation."
   ]
  },
  {
   "cell_type": "code",
   "execution_count": 12,
   "id": "82796ea3",
   "metadata": {},
   "outputs": [
    {
     "name": "stdout",
     "output_type": "stream",
     "text": [
      "5.29 µs ± 316 ns per loop (mean ± std. dev. of 7 runs, 100000 loops each)\n"
     ]
    }
   ],
   "source": [
    "%%timeit\n",
    "P @ D**k @ Pinv"
   ]
  },
  {
   "cell_type": "markdown",
   "id": "bc675330",
   "metadata": {},
   "source": [
    "Diagonalization computes $A^{k}$ much faster!"
   ]
  },
  {
   "cell_type": "markdown",
   "id": "9f2edf60",
   "metadata": {},
   "source": [
    "Now, ley's try to find the steady-state vector by computing $A^{k}$ with $k$ big enough, say $k=100$,"
   ]
  },
  {
   "cell_type": "code",
   "execution_count": 13,
   "id": "0fcace5a",
   "metadata": {},
   "outputs": [
    {
     "data": {
      "text/plain": [
       "array([0.25, 0.25, 0.25, 0.25])"
      ]
     },
     "execution_count": 13,
     "metadata": {},
     "output_type": "execute_result"
    }
   ],
   "source": [
    "x0 = p\n",
    "x100 = P @ D**(100) @ Pinv @x0\n",
    "x100"
   ]
  },
  {
   "cell_type": "markdown",
   "id": "d2e9ee14",
   "metadata": {},
   "source": [
    "In fact, \n",
    "$$\\vec{x}_k = A^k\\vec{x}_0 = PD^kP^{-1}\\vec{x}_0 = 0.25*(1,1,1,1)^T - 0.05 (0.8)^k * (-1,-1,1,1)^T + 0.10 (0.7)^k* (1,-1,0,0)^T$$\n",
    "Thus \n",
    "$$ \\lim_{k\\rightarrow\\infty}\\vec{x}_k = (0.25, 0.25, 0.25, 0.25)^T\n",
    "$$"
   ]
  },
  {
   "cell_type": "markdown",
   "id": "1d66f972",
   "metadata": {},
   "source": [
    "In general, we will assume that the initial vector $\\vec{x}_0$  in a Markov chain is a probability vector, \n",
    "and this in turn implies that all of the state vectors are probability vectors.\n",
    "One would expect, then, that if the chain converges to a steady-state vector $x$, then the\n",
    "steady-state vector must also be a probability vector. This is indeed the case, as we see\n",
    "in the next theorem.\n",
    "\n",
    "**Theorem 18.7.** If a Markov chain with an $n\\times n$ transition matrix $A$ converges to a steady-state\n",
    "vector $\\vec{x}_{ST}$, then \n",
    "  1. $\\vec{x}_{ST}$ is a probability vector.\n",
    "  2. $\\lambda_1 = 1$ is an eigenvalue of $A$ and $\\vec{x}_{ST}$ is an eigenvector corresponding to $\\lambda_1$;\n",
    "     $A\\vec{x}_{ST} = \\vec{x}_{ST}$."
   ]
  },
  {
   "cell_type": "markdown",
   "id": "773dab59-2a63-4bf6-b39d-077a1e88f5b1",
   "metadata": {},
   "source": [
    "**Remark.** In Example 18.6, python code yielded the eigenvector \n",
    "$(-0.5, -0.5, -0.5, -0.5)$ corresponding to $\\lambda_1$. But \n",
    "$\\vec{x}_{ST} = (0.25, 0.25, 0.25, 0.25)$. What happened? Remember that\n",
    "$\\vec{x}_{ST}$ should be a probability vectore and the sum of its entries\n",
    "must be equal to $1$. So, we have to scale the vector $(-0.5, -0.5, -0.5, -0.5)$\n",
    "by multiplying $\\frac{1}{(-0.5) + (-0.5) + (-0.5) + (-0.5)} = -\\frac{1}{2}$\n",
    "to get $\\vec{x}_{ST} = (0.25, 0.25, 0.25, 0.25)$."
   ]
  },
  {
   "cell_type": "markdown",
   "id": "a3c02c21",
   "metadata": {},
   "source": [
    "### Exercises "
   ]
  },
  {
   "cell_type": "markdown",
   "id": "22c20c68",
   "metadata": {},
   "source": [
    "1. Each year, employees at a company are given the option of donating to a local charity as part of a payroll deduction plan. In general, 80 percent of the employees enrolled in the plan in any one year will choose to sign up again the following year, and 30 percent of the unenrolled will choose to enroll the following year. Determine the transition matrix for the Markov process and find the steady-state vector. What percentage of employees would you expect to find enrolled in the program in the long run?\n",
    "2. A system consists of three servers, A, B and C. The specifications are as follows: “If server A is down, then the propability that server B is up 90% and the probability that  server C is up is 10%. Likewise, the diagram illustrates the probability of each server up when a server is down.  <center><img src=\"lecture18-fig4.png\" style=\"width: 200px;\"/>  </center> Determine the transition matrix for the Markov process and find the steady-state vector. What is the chance that server C is up when server A is down in the long run?"
   ]
  },
  {
   "cell_type": "code",
   "execution_count": null,
   "id": "e825c2a7",
   "metadata": {},
   "outputs": [],
   "source": []
  }
 ],
 "metadata": {
  "kernelspec": {
   "display_name": "SciML",
   "language": "python",
   "name": "sciml"
  },
  "language_info": {
   "codemirror_mode": {
    "name": "ipython",
    "version": 3
   },
   "file_extension": ".py",
   "mimetype": "text/x-python",
   "name": "python",
   "nbconvert_exporter": "python",
   "pygments_lexer": "ipython3",
   "version": "3.9.6"
  },
  "toc-autonumbering": false,
  "toc-showtags": false
 },
 "nbformat": 4,
 "nbformat_minor": 5
}
